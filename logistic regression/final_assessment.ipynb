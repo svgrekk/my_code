{
 "cells": [
  {
   "cell_type": "code",
   "execution_count": 2,
   "id": "db83dc30",
   "metadata": {},
   "outputs": [],
   "source": [
    "import pandas as pd\n",
    "import numpy as np\n",
    "import matplotlib.pyplot as plt\n",
    "import seaborn as sns\n",
    "\n",
    "import scipy.stats as stats\n",
    "\n",
    "from sklearn.pipeline import Pipeline\n",
    "\n",
    "from sklearn.compose import ColumnTransformer\n",
    "\n",
    "from sklearn.preprocessing import MinMaxScaler\n",
    "from sklearn.preprocessing import OneHotEncoder\n",
    "\n",
    "from sklearn.ensemble import ExtraTreesClassifier\n",
    "\n",
    "from sklearn.model_selection import train_test_split\n",
    "\n",
    "\n",
    "\n",
    "from sklearn.linear_model import LogisticRegression\n",
    "\n",
    "from sklearn.metrics import accuracy_score, confusion_matrix"
   ]
  },
  {
   "cell_type": "code",
   "execution_count": 3,
   "id": "01344005",
   "metadata": {},
   "outputs": [],
   "source": [
    "color=['#9a8c98','#4a4e69']"
   ]
  },
  {
   "cell_type": "code",
   "execution_count": 4,
   "id": "3a1819e4",
   "metadata": {},
   "outputs": [],
   "source": [
    "df = pd.read_csv('data/Main Sample.csv')"
   ]
  },
  {
   "cell_type": "markdown",
   "id": "30cbedb7",
   "metadata": {},
   "source": [
    "### Check NaN"
   ]
  },
  {
   "cell_type": "code",
   "execution_count": 5,
   "id": "9fa27e9c",
   "metadata": {},
   "outputs": [
    {
     "data": {
      "text/plain": [
       "False"
      ]
     },
     "execution_count": 5,
     "metadata": {},
     "output_type": "execute_result"
    }
   ],
   "source": [
    "df.isna().any().any()"
   ]
  },
  {
   "cell_type": "code",
   "execution_count": 6,
   "id": "776dd129",
   "metadata": {},
   "outputs": [
    {
     "data": {
      "text/html": [
       "<div>\n",
       "<style scoped>\n",
       "    .dataframe tbody tr th:only-of-type {\n",
       "        vertical-align: middle;\n",
       "    }\n",
       "\n",
       "    .dataframe tbody tr th {\n",
       "        vertical-align: top;\n",
       "    }\n",
       "\n",
       "    .dataframe thead th {\n",
       "        text-align: right;\n",
       "    }\n",
       "</style>\n",
       "<table border=\"1\" class=\"dataframe\">\n",
       "  <thead>\n",
       "    <tr style=\"text-align: right;\">\n",
       "      <th></th>\n",
       "      <th>CustomerId</th>\n",
       "      <th>CreditScore</th>\n",
       "      <th>Location</th>\n",
       "      <th>Gender</th>\n",
       "      <th>Age</th>\n",
       "      <th>Tenure</th>\n",
       "      <th>Balance</th>\n",
       "      <th>NumOfProducts</th>\n",
       "      <th>HasCreditCard</th>\n",
       "      <th>IsActiveMember</th>\n",
       "      <th>EstimatedSalary</th>\n",
       "      <th>Exited</th>\n",
       "      <th>Complain</th>\n",
       "      <th>Satisfaction Score</th>\n",
       "      <th>Card Type</th>\n",
       "      <th>Point Earned</th>\n",
       "    </tr>\n",
       "  </thead>\n",
       "  <tbody>\n",
       "    <tr>\n",
       "      <th>0</th>\n",
       "      <td>15634602</td>\n",
       "      <td>619</td>\n",
       "      <td>France</td>\n",
       "      <td>Female</td>\n",
       "      <td>42</td>\n",
       "      <td>2</td>\n",
       "      <td>0.00</td>\n",
       "      <td>1</td>\n",
       "      <td>1</td>\n",
       "      <td>1</td>\n",
       "      <td>101348.88</td>\n",
       "      <td>1</td>\n",
       "      <td>1</td>\n",
       "      <td>2</td>\n",
       "      <td>DIAMOND</td>\n",
       "      <td>464</td>\n",
       "    </tr>\n",
       "    <tr>\n",
       "      <th>1</th>\n",
       "      <td>15647311</td>\n",
       "      <td>608</td>\n",
       "      <td>Spain</td>\n",
       "      <td>Female</td>\n",
       "      <td>41</td>\n",
       "      <td>1</td>\n",
       "      <td>83807.86</td>\n",
       "      <td>1</td>\n",
       "      <td>0</td>\n",
       "      <td>1</td>\n",
       "      <td>112542.58</td>\n",
       "      <td>0</td>\n",
       "      <td>1</td>\n",
       "      <td>3</td>\n",
       "      <td>DIAMOND</td>\n",
       "      <td>456</td>\n",
       "    </tr>\n",
       "    <tr>\n",
       "      <th>2</th>\n",
       "      <td>15619304</td>\n",
       "      <td>502</td>\n",
       "      <td>France</td>\n",
       "      <td>Female</td>\n",
       "      <td>42</td>\n",
       "      <td>8</td>\n",
       "      <td>159660.80</td>\n",
       "      <td>3</td>\n",
       "      <td>1</td>\n",
       "      <td>0</td>\n",
       "      <td>113931.57</td>\n",
       "      <td>1</td>\n",
       "      <td>1</td>\n",
       "      <td>3</td>\n",
       "      <td>DIAMOND</td>\n",
       "      <td>377</td>\n",
       "    </tr>\n",
       "    <tr>\n",
       "      <th>3</th>\n",
       "      <td>15701354</td>\n",
       "      <td>699</td>\n",
       "      <td>France</td>\n",
       "      <td>Female</td>\n",
       "      <td>39</td>\n",
       "      <td>1</td>\n",
       "      <td>0.00</td>\n",
       "      <td>2</td>\n",
       "      <td>0</td>\n",
       "      <td>0</td>\n",
       "      <td>93826.63</td>\n",
       "      <td>0</td>\n",
       "      <td>0</td>\n",
       "      <td>5</td>\n",
       "      <td>GOLD</td>\n",
       "      <td>350</td>\n",
       "    </tr>\n",
       "    <tr>\n",
       "      <th>4</th>\n",
       "      <td>15737888</td>\n",
       "      <td>850</td>\n",
       "      <td>Spain</td>\n",
       "      <td>Female</td>\n",
       "      <td>43</td>\n",
       "      <td>2</td>\n",
       "      <td>125510.82</td>\n",
       "      <td>1</td>\n",
       "      <td>1</td>\n",
       "      <td>1</td>\n",
       "      <td>79084.10</td>\n",
       "      <td>0</td>\n",
       "      <td>0</td>\n",
       "      <td>5</td>\n",
       "      <td>GOLD</td>\n",
       "      <td>425</td>\n",
       "    </tr>\n",
       "  </tbody>\n",
       "</table>\n",
       "</div>"
      ],
      "text/plain": [
       "   CustomerId  CreditScore Location  Gender  Age  Tenure    Balance  \\\n",
       "0    15634602          619   France  Female   42       2       0.00   \n",
       "1    15647311          608    Spain  Female   41       1   83807.86   \n",
       "2    15619304          502   France  Female   42       8  159660.80   \n",
       "3    15701354          699   France  Female   39       1       0.00   \n",
       "4    15737888          850    Spain  Female   43       2  125510.82   \n",
       "\n",
       "   NumOfProducts  HasCreditCard  IsActiveMember  EstimatedSalary  Exited  \\\n",
       "0              1              1               1        101348.88       1   \n",
       "1              1              0               1        112542.58       0   \n",
       "2              3              1               0        113931.57       1   \n",
       "3              2              0               0         93826.63       0   \n",
       "4              1              1               1         79084.10       0   \n",
       "\n",
       "   Complain  Satisfaction Score Card Type  Point Earned  \n",
       "0         1                   2   DIAMOND           464  \n",
       "1         1                   3   DIAMOND           456  \n",
       "2         1                   3   DIAMOND           377  \n",
       "3         0                   5      GOLD           350  \n",
       "4         0                   5      GOLD           425  "
      ]
     },
     "execution_count": 6,
     "metadata": {},
     "output_type": "execute_result"
    }
   ],
   "source": [
    "df.head()"
   ]
  },
  {
   "cell_type": "code",
   "execution_count": 7,
   "id": "2cdeb709",
   "metadata": {},
   "outputs": [
    {
     "name": "stdout",
     "output_type": "stream",
     "text": [
      "<class 'pandas.core.frame.DataFrame'>\n",
      "RangeIndex: 9980 entries, 0 to 9979\n",
      "Data columns (total 16 columns):\n",
      " #   Column              Non-Null Count  Dtype  \n",
      "---  ------              --------------  -----  \n",
      " 0   CustomerId          9980 non-null   int64  \n",
      " 1   CreditScore         9980 non-null   int64  \n",
      " 2   Location            9980 non-null   object \n",
      " 3   Gender              9980 non-null   object \n",
      " 4   Age                 9980 non-null   int64  \n",
      " 5   Tenure              9980 non-null   int64  \n",
      " 6   Balance             9980 non-null   float64\n",
      " 7   NumOfProducts       9980 non-null   int64  \n",
      " 8   HasCreditCard       9980 non-null   int64  \n",
      " 9   IsActiveMember      9980 non-null   int64  \n",
      " 10  EstimatedSalary     9980 non-null   float64\n",
      " 11  Exited              9980 non-null   int64  \n",
      " 12  Complain            9980 non-null   int64  \n",
      " 13  Satisfaction Score  9980 non-null   int64  \n",
      " 14  Card Type           9980 non-null   object \n",
      " 15  Point Earned        9980 non-null   int64  \n",
      "dtypes: float64(2), int64(11), object(3)\n",
      "memory usage: 1.2+ MB\n"
     ]
    }
   ],
   "source": [
    "df.info()"
   ]
  },
  {
   "cell_type": "code",
   "execution_count": 8,
   "id": "e6f51b91",
   "metadata": {},
   "outputs": [
    {
     "data": {
      "text/plain": [
       "(9980, 16)"
      ]
     },
     "execution_count": 8,
     "metadata": {},
     "output_type": "execute_result"
    }
   ],
   "source": [
    "df.shape"
   ]
  },
  {
   "cell_type": "markdown",
   "id": "b289cc03",
   "metadata": {},
   "source": [
    "# Q1\n",
    "### What is the proportion of the customers that are still using the banking services compared to those that have left in the period covered in the dataset? Is there a significant difference in the proportion that the bank authority should be worried about?"
   ]
  },
  {
   "cell_type": "code",
   "execution_count": 9,
   "id": "39710289",
   "metadata": {},
   "outputs": [
    {
     "data": {
      "text/plain": [
       "0.2035070140280561"
      ]
     },
     "execution_count": 9,
     "metadata": {},
     "output_type": "execute_result"
    }
   ],
   "source": [
    "df['Exited'].mean()"
   ]
  },
  {
   "cell_type": "code",
   "execution_count": 10,
   "id": "6ab36d84",
   "metadata": {},
   "outputs": [
    {
     "name": "stdout",
     "output_type": "stream",
     "text": [
      "Total customers: 9980\n"
     ]
    }
   ],
   "source": [
    "total_customers = df.shape[0]\n",
    "print(f\"Total customers: {total_customers}\")\n"
   ]
  },
  {
   "cell_type": "code",
   "execution_count": 11,
   "id": "86f578bd",
   "metadata": {},
   "outputs": [
    {
     "name": "stdout",
     "output_type": "stream",
     "text": [
      "Active customers: 7949 (79.65%)\n"
     ]
    }
   ],
   "source": [
    "active_customers = df[df['Exited'] == 0].shape[0]\n",
    "prop_active = active_customers / total_customers\n",
    "\n",
    "print(f\"Active customers: {active_customers} ({prop_active:.2%})\")\n"
   ]
  },
  {
   "cell_type": "code",
   "execution_count": 12,
   "id": "bc0feebc",
   "metadata": {},
   "outputs": [
    {
     "name": "stdout",
     "output_type": "stream",
     "text": [
      "Exited customers: 2031 (20.35%)\n"
     ]
    }
   ],
   "source": [
    "exited_customers = df[df['Exited'] == 1].shape[0]\n",
    "prop_exited  = exited_customers / total_customers\n",
    "\n",
    "print(f\"Exited customers: {exited_customers} ({prop_exited :.2%})\")\n"
   ]
  },
  {
   "cell_type": "code",
   "execution_count": 13,
   "id": "ad8057f6",
   "metadata": {},
   "outputs": [
    {
     "data": {
      "image/png": "[encoded data removed]",
      "text/plain": [
       "<Figure size 500x500 with 1 Axes>"
      ]
     },
     "metadata": {},
     "output_type": "display_data"
    }
   ],
   "source": [
    "import matplotlib.pyplot as plt\n",
    "import numpy as np\n",
    "\n",
    "\n",
    "\n",
    "prop_active = 0.7965\n",
    "prop_exited = 0.2035\n",
    "\n",
    "\n",
    "labels = ['Active', 'Exited']\n",
    "proportions = [prop_active, prop_exited]\n",
    "#confidence_intervals = [[conf_int_lower, conf_int_upper], [0, 0]]  # For error bars, only the difference in proportions is used\n",
    "\n",
    "# Plotting\n",
    "x = np.arange(len(labels))\n",
    "width = 0.35\n",
    "\n",
    "fig, ax = plt.subplots(figsize=(5,5))\n",
    "\n",
    "bars = ax.bar(x, proportions, width, label='Proportion',color='#4a4e69')\n",
    "\n",
    "\n",
    "\n",
    "ax.spines['top'].set_visible(False)\n",
    "ax.spines['right'].set_visible(False)\n",
    "ax.spines['left'].set_visible(False)\n",
    "\n",
    "\n",
    "ax.set_yticklabels([])\n",
    "ax.set_yticks([])\n",
    "\n",
    "ax.set_ylabel('Proportion')\n",
    "ax.set_title('Proportion of Active and Exited Customers', y=1.1)\n",
    "ax.set_xticks(x)\n",
    "ax.set_xticklabels(labels)\n",
    "\n",
    "\n",
    "for bar in bars.patches:\n",
    "    ax.annotate(\n",
    "        f'{bar.get_height()*100:.2f}%',\n",
    "        xy = (bar.get_x() + bar.get_width()/2, bar.get_height()),\n",
    "        ha='center',\n",
    "        va='center',\n",
    "        size=12,\n",
    "        xytext=(0, 8),\n",
    "        textcoords='offset points'\n",
    "        \n",
    "        \n",
    "    )\n",
    "    \n",
    "\n",
    "\n",
    "ax.legend().set_visible(False)\n",
    "\n",
    "\n",
    "plt.savefig('Pics/prop_act_exit.png',bbox_inches='tight')\n",
    "\n",
    "plt.show()\n"
   ]
  },
  {
   "cell_type": "markdown",
   "id": "deeb55ab",
   "metadata": {},
   "source": [
    "pooled proportion:\n",
    "\n",
    "$$p = \\frac{x_1 + x_2}{n_1 + n_2}$$\n",
    "\n",
    "\n",
    "$x_1$ and $x_2$ are the number of \"successes\" in each of the two groups, and $n_1$ and $n_2$ are the total number of observations in each of the two groups.\n"
   ]
  },
  {
   "cell_type": "code",
   "execution_count": 14,
   "id": "23c6cc38",
   "metadata": {},
   "outputs": [
    {
     "name": "stdout",
     "output_type": "stream",
     "text": [
      "Pooled proportion: 0.5\n"
     ]
    }
   ],
   "source": [
    "pooled_prop = (active_customers + exited_customers)/(total_customers * 2)\n",
    "print(f'Pooled proportion: {pooled_prop}')"
   ]
  },
  {
   "cell_type": "markdown",
   "id": "87201e90",
   "metadata": {},
   "source": [
    "z score:\n",
    "\n",
    "$$ z = \\frac{{p_1 - p_2}}{{\\sqrt{\\frac{{p(1 - p)}}{{\\left(\\frac{1}{{n_1}} + \\frac{1}{{n_2}}\\right)}}}}} $$\n",
    "\n"
   ]
  },
  {
   "cell_type": "code",
   "execution_count": 15,
   "id": "9eecc264",
   "metadata": {},
   "outputs": [
    {
     "name": "stdout",
     "output_type": "stream",
     "text": [
      "Z score: 47.70134542634376\n"
     ]
    }
   ],
   "source": [
    "\n",
    "\n",
    "# standard error\n",
    "SE = np.sqrt(pooled_prop * (1 - pooled_prop) * (1 / active_customers + 1 / exited_customers))\n",
    "\n",
    "# Z-score\n",
    "z_score = (prop_active - prop_exited) / SE\n",
    "\n",
    "print(f'Z score: {z_score}')\n"
   ]
  },
  {
   "cell_type": "code",
   "execution_count": null,
   "id": "53f98ac4",
   "metadata": {},
   "outputs": [],
   "source": []
  },
  {
   "cell_type": "code",
   "execution_count": null,
   "id": "966a8621",
   "metadata": {},
   "outputs": [],
   "source": []
  },
  {
   "cell_type": "code",
   "execution_count": 16,
   "id": "3b785a9d",
   "metadata": {},
   "outputs": [
    {
     "name": "stdout",
     "output_type": "stream",
     "text": [
      "Critical values:  (1.959963984540054, -1.959963984540054)\n"
     ]
    }
   ],
   "source": [
    "from scipy.stats import norm\n",
    "\n",
    "alpha = 0.05\n",
    "upper = norm.ppf(1 - alpha/2)  \n",
    "lower = -norm.ppf(1 - alpha/2)  \n",
    "\n",
    "print('Critical values: ',(upper, lower))\n"
   ]
  },
  {
   "cell_type": "code",
   "execution_count": 17,
   "id": "2cfd5e06",
   "metadata": {},
   "outputs": [
    {
     "data": {
      "text/plain": [
       "(47.70134542634376, 1.959963984540054, -1.959963984540054)"
      ]
     },
     "execution_count": 17,
     "metadata": {},
     "output_type": "execute_result"
    }
   ],
   "source": [
    "(z_score,upper,lower)"
   ]
  },
  {
   "cell_type": "code",
   "execution_count": 18,
   "id": "17b466fb",
   "metadata": {},
   "outputs": [],
   "source": [
    "def get_ci(z_score, upper, lower):\n",
    "    CI = 0\n",
    "    if (z_score < lower):\n",
    "        CI = lower\n",
    "        title = 'Reject $H_0$'\n",
    "    \n",
    "    elif z_score > upper:\n",
    "        \n",
    "        CI = upper\n",
    "        title = 'Reject $H_0$'\n",
    "        \n",
    "    else:\n",
    "        title = 'Accept $H_0$'\n",
    "        \n",
    "    return CI, title\n",
    "    \n",
    "    \n",
    "CI, title = get_ci(z_score,upper,lower)"
   ]
  },
  {
   "cell_type": "code",
   "execution_count": 19,
   "id": "e9f9b3ce",
   "metadata": {},
   "outputs": [
    {
     "data": {
      "image/png": "[encoded data removed]",
      "text/plain": [
       "<Figure size 1000x500 with 1 Axes>"
      ]
     },
     "metadata": {},
     "output_type": "display_data"
    }
   ],
   "source": [
    "x = np.linspace(- 4, z_score/3 , 1000)\n",
    "y = stats.norm.pdf(x, loc=0, scale=1)   \n",
    "    \n",
    "fig, ax = plt.subplots(figsize=(10,5))\n",
    "ax.axis(False)\n",
    "ax.set_title('Two-proportion Z-test ')   \n",
    "ax.plot(x,y,color='#4a4e69', alpha = 1)\n",
    "ax.fill_between(x,y, where=(x < lower)|(x > upper),color='#ff9b54', alpha=0.5, label='Rejection area')\n",
    "ax.vlines(z_score/3, 0, 0.10,linestyle='--', color='#669bbc')\n",
    "ax.plot(z_score/3, 0, marker='o', color='#669bbc',label='Z-score')\n",
    "    \n",
    "for coord in [lower, upper]:\n",
    "    ax.vlines(coord, 0, 0.10,linestyle='--',color='#c1121f', alpha = 0.5)\n",
    "    \n",
    "    \n",
    "\n",
    "ax.annotate('z = '+f'{z_score:.04f}', xy =(z_score/3, 0),\n",
    "                    xytext =(4, 0.10), \n",
    "                    arrowprops = dict(\n",
    "                        arrowstyle='-',\n",
    "                        color ='#669bbc',\n",
    "                        lw=0.8\n",
    "                                     )\n",
    "               )\n",
    "\n",
    "    \n",
    "ax.annotate(f'$\\\\alpha={CI:0.4f}$', xy =(CI, stats.norm.pdf(CI)/2),\n",
    "                    xytext =(4, 0.05), \n",
    "                    arrowprops = dict(\n",
    "                        arrowstyle=\"-\",\n",
    "                        color='#ff9b54',\n",
    "                        lw=0.8\n",
    "                                     )\n",
    "               )\n",
    "\n",
    "    \n",
    "    \n",
    "# hypothesis text\n",
    "ax.text(9, 0.34, r'$p_1$'+f' = {prop_active:.3f}')\n",
    "ax.text(9, 0.32, r'$p_2$'+f' = {prop_exited:.3f}')\n",
    "ax.text(9, 0.30, f'n = {total_customers}')\n",
    "ax.text(9, 0.28, f'$\\\\alpha = {alpha}$')\n",
    "\n",
    "ax.text(9, 0.25, f'$H_0: p_1 = p_2$')\n",
    "ax.text(9, 0.23, f'$H_1: P_1 \\\\neq p_2$')\n",
    "\n",
    "\n",
    "ax.text(8, 0.18, title, color='#e71d36',fontsize=12)\n",
    "  \n",
    "ax.legend()\n",
    "\n",
    "plt.savefig('Pics/two_prop_ztest.png',bbox_inches='tight')\n",
    "plt.show()\n",
    "        "
   ]
  },
  {
   "cell_type": "code",
   "execution_count": null,
   "id": "8dd45948",
   "metadata": {},
   "outputs": [],
   "source": []
  },
  {
   "cell_type": "code",
   "execution_count": null,
   "id": "6adacc7e",
   "metadata": {},
   "outputs": [],
   "source": []
  },
  {
   "cell_type": "markdown",
   "id": "961688a9",
   "metadata": {},
   "source": [
    "# Q2\n",
    "### What is the relationship between the number of complaints received by the bank authorities and the number of exited customers?"
   ]
  },
  {
   "cell_type": "code",
   "execution_count": 20,
   "id": "5ef81891",
   "metadata": {},
   "outputs": [],
   "source": [
    "exited_complaints = df[df['Exited'] == 1]['Complain'].mean()\n",
    "remaining_complaints = df[df['Exited'] == 0]['Complain'].mean()"
   ]
  },
  {
   "cell_type": "code",
   "execution_count": 21,
   "id": "fa3f8bcc",
   "metadata": {},
   "outputs": [
    {
     "data": {
      "text/plain": [
       "0.9980305268340719"
      ]
     },
     "execution_count": 21,
     "metadata": {},
     "output_type": "execute_result"
    }
   ],
   "source": [
    "exited_complaints "
   ]
  },
  {
   "cell_type": "code",
   "execution_count": 22,
   "id": "cf932e2a",
   "metadata": {},
   "outputs": [
    {
     "data": {
      "text/plain": [
       "0.001258019876714052"
      ]
     },
     "execution_count": 22,
     "metadata": {},
     "output_type": "execute_result"
    }
   ],
   "source": [
    "remaining_complaints"
   ]
  },
  {
   "cell_type": "code",
   "execution_count": 23,
   "id": "ccb1cf3b",
   "metadata": {},
   "outputs": [
    {
     "data": {
      "text/html": [
       "<div>\n",
       "<style scoped>\n",
       "    .dataframe tbody tr th:only-of-type {\n",
       "        vertical-align: middle;\n",
       "    }\n",
       "\n",
       "    .dataframe tbody tr th {\n",
       "        vertical-align: top;\n",
       "    }\n",
       "\n",
       "    .dataframe thead th {\n",
       "        text-align: right;\n",
       "    }\n",
       "</style>\n",
       "<table border=\"1\" class=\"dataframe\">\n",
       "  <thead>\n",
       "    <tr style=\"text-align: right;\">\n",
       "      <th>Exited</th>\n",
       "      <th>0</th>\n",
       "      <th>1</th>\n",
       "    </tr>\n",
       "    <tr>\n",
       "      <th>Complain</th>\n",
       "      <th></th>\n",
       "      <th></th>\n",
       "    </tr>\n",
       "  </thead>\n",
       "  <tbody>\n",
       "    <tr>\n",
       "      <th>0</th>\n",
       "      <td>7939</td>\n",
       "      <td>4</td>\n",
       "    </tr>\n",
       "    <tr>\n",
       "      <th>1</th>\n",
       "      <td>10</td>\n",
       "      <td>2027</td>\n",
       "    </tr>\n",
       "  </tbody>\n",
       "</table>\n",
       "</div>"
      ],
      "text/plain": [
       "Exited       0     1\n",
       "Complain            \n",
       "0         7939     4\n",
       "1           10  2027"
      ]
     },
     "execution_count": 23,
     "metadata": {},
     "output_type": "execute_result"
    }
   ],
   "source": [
    "cross_tab = pd.crosstab(df['Complain'], df['Exited'])\n",
    "cross_tab"
   ]
  },
  {
   "cell_type": "code",
   "execution_count": 24,
   "id": "99687f5f",
   "metadata": {},
   "outputs": [
    {
     "data": {
      "image/png": "[encoded data removed]",
      "text/plain": [
       "<Figure size 640x480 with 2 Axes>"
      ]
     },
     "metadata": {},
     "output_type": "display_data"
    }
   ],
   "source": [
    "sns.heatmap(cross_tab, annot=True, fmt='d', cmap='coolwarm', cbar=True)\n",
    "plt.xlabel(\"Exited\")\n",
    "plt.ylabel(\"Complain\")\n",
    "plt.title(\"Heatmap of Complaints and Exited Customers\")\n",
    "plt.show()"
   ]
  },
  {
   "cell_type": "code",
   "execution_count": 25,
   "id": "28314b21",
   "metadata": {},
   "outputs": [
    {
     "name": "stdout",
     "output_type": "stream",
     "text": [
      "Chi-square statistic: 9887.809544958589\n",
      "p-value: 0.0\n"
     ]
    }
   ],
   "source": [
    "from scipy.stats import chi2_contingency\n",
    "\n",
    "# create a contingency table\n",
    "contingency_table = df.groupby(['Complain', 'Exited']).size().unstack()\n",
    "\n",
    "# perform chi-square test of independence\n",
    "chi2_stat, p, dof, expected = chi2_contingency(contingency_table)\n",
    "\n",
    "print(f'Chi-square statistic: {chi2_stat}')\n",
    "print(f'p-value: {p}')\n"
   ]
  },
  {
   "cell_type": "code",
   "execution_count": 26,
   "id": "1c85c6f3",
   "metadata": {},
   "outputs": [
    {
     "data": {
      "image/png": "[encoded data removed]",
      "text/plain": [
       "<Figure size 1000x500 with 1 Axes>"
      ]
     },
     "metadata": {},
     "output_type": "display_data"
    }
   ],
   "source": [
    "import numpy as np\n",
    "import matplotlib.pyplot as plt\n",
    "import scipy.stats as stats\n",
    "\n",
    "df_chi2 = 1\n",
    "x = np.linspace(stats.chi2.ppf(0.001, df_chi2), stats.chi2.ppf(0.999, df_chi2), 1000)\n",
    "y = stats.chi2.pdf(x, df_chi2)\n",
    "\n",
    "lower_critical = stats.chi2.ppf(0.025, df_chi2)\n",
    "upper_critical = stats.chi2.ppf(0.975, df_chi2)\n",
    "\n",
    "fig, ax = plt.subplots(figsize=(10,5))\n",
    "ax.axis(False)\n",
    "\n",
    "ax.plot(x, y, label=f'Chi-square distribution (df={df_chi2})', color='#4a4e69', alpha=0.7)\n",
    "\n",
    "ax.plot(lower_critical, 0, c='r', marker='o', label=f'Critical value')\n",
    "ax.plot(upper_critical, 0, c='r', marker='o')\n",
    "ax.plot(upper_critical+5, 0, c='#669bbc', marker='o')\n",
    "\n",
    "\n",
    "\n",
    "ax.text(0.25, 0.7, r'$H_0$: Customer status $\\perp$ Complain status',\n",
    "        horizontalalignment='center', verticalalignment='center',\n",
    "        transform=ax.transAxes, fontsize=10)\n",
    "\n",
    "ax.text(0.25, 0.65, r'$H_1$: Customer status $\\perp$$\\not$ Complain status',\n",
    "        horizontalalignment='center', verticalalignment='center',\n",
    "        transform=ax.transAxes, fontsize=10)\n",
    "\n",
    "\n",
    "ax.text(1, 150, 'Reject $H_0$', color='#e71d36',fontsize=12)\n",
    "\n",
    "# Annotation for lower critical value\n",
    "ax.annotate(f'Lower critical value\\n({lower_critical:.2f})',\n",
    "            xy=(lower_critical, 0), xycoords='data',\n",
    "            xytext=(30, +50), textcoords='offset points',\n",
    "            arrowprops=dict(arrowstyle=\"->\", connectionstyle=\"arc3,rad=.2\"))\n",
    "\n",
    "# Annotation for upper critical value\n",
    "ax.annotate(f'Upper critical value\\n({upper_critical:.2f})',\n",
    "            xy=(upper_critical, 0), xycoords='data',\n",
    "            xytext=(30, +50), textcoords='offset points',\n",
    "            arrowprops=dict(arrowstyle=\"->\", connectionstyle=\"arc3,rad=.2\"))\n",
    "\n",
    "ax.annotate(f'Chi-square score\\n({chi2_stat:.2f})',\n",
    "            xy=(upper_critical+5, 0), xycoords='data',\n",
    "            xytext=(30, +50), textcoords='offset points',\n",
    "            arrowprops=dict(arrowstyle=\"->\", connectionstyle=\"arc3,rad=.2\"))\n",
    "\n",
    "# Mark rejection area\n",
    "ax.axvspan(upper_critical, x[-1], color='#ff9b54', alpha=0.5, label='Rejection Area')\n",
    "\n",
    "\n",
    "ax.set_xlabel('Chi-square Statistic')\n",
    "ax.set_ylabel('Probability Density Function')\n",
    "ax.set_title('Chi-square independence test ',y=1.08)\n",
    "ax.legend()\n",
    "\n",
    "plt.savefig('Pics/chi2_test.png',bbox_inches='tight')\n",
    "plt.show()\n"
   ]
  },
  {
   "cell_type": "markdown",
   "id": "4d00d388",
   "metadata": {},
   "source": [
    "### Formula for the chi-square statistic"
   ]
  },
  {
   "cell_type": "markdown",
   "id": "12b27458",
   "metadata": {},
   "source": [
    "\n",
    "$$\\chi^2 = \\sum \\frac{(O_i - E_i)^2}{E_i}$$\n",
    "\n",
    "$O_i$ - represents the observed frequencies (i.e., the actual data you collected),\n",
    "\n",
    "$E_i$ - represents the expected frequencies (i.e., the frequencies you would expect if the null hypothesis were true), and\n"
   ]
  },
  {
   "cell_type": "code",
   "execution_count": 27,
   "id": "57ce773d",
   "metadata": {},
   "outputs": [
    {
     "data": {
      "text/html": [
       "<div>\n",
       "<style scoped>\n",
       "    .dataframe tbody tr th:only-of-type {\n",
       "        vertical-align: middle;\n",
       "    }\n",
       "\n",
       "    .dataframe tbody tr th {\n",
       "        vertical-align: top;\n",
       "    }\n",
       "\n",
       "    .dataframe thead th {\n",
       "        text-align: right;\n",
       "    }\n",
       "</style>\n",
       "<table border=\"1\" class=\"dataframe\">\n",
       "  <thead>\n",
       "    <tr style=\"text-align: right;\">\n",
       "      <th>Exited</th>\n",
       "      <th>0</th>\n",
       "      <th>1</th>\n",
       "    </tr>\n",
       "    <tr>\n",
       "      <th>Complain</th>\n",
       "      <th></th>\n",
       "      <th></th>\n",
       "    </tr>\n",
       "  </thead>\n",
       "  <tbody>\n",
       "    <tr>\n",
       "      <th>0</th>\n",
       "      <td>7939</td>\n",
       "      <td>4</td>\n",
       "    </tr>\n",
       "    <tr>\n",
       "      <th>1</th>\n",
       "      <td>10</td>\n",
       "      <td>2027</td>\n",
       "    </tr>\n",
       "  </tbody>\n",
       "</table>\n",
       "</div>"
      ],
      "text/plain": [
       "Exited       0     1\n",
       "Complain            \n",
       "0         7939     4\n",
       "1           10  2027"
      ]
     },
     "execution_count": 27,
     "metadata": {},
     "output_type": "execute_result"
    }
   ],
   "source": [
    "cont = df.groupby(['Complain','Exited']).size().unstack()\n",
    "cont_table = cont.copy()\n",
    "cont"
   ]
  },
  {
   "cell_type": "code",
   "execution_count": 28,
   "id": "80325e1a",
   "metadata": {},
   "outputs": [
    {
     "data": {
      "text/plain": [
       "9980"
      ]
     },
     "execution_count": 28,
     "metadata": {},
     "output_type": "execute_result"
    }
   ],
   "source": [
    "grand_total = cont.sum().sum()\n",
    "grand_total"
   ]
  },
  {
   "cell_type": "code",
   "execution_count": 29,
   "id": "d5a574cc",
   "metadata": {},
   "outputs": [
    {
     "data": {
      "text/html": [
       "<div>\n",
       "<style scoped>\n",
       "    .dataframe tbody tr th:only-of-type {\n",
       "        vertical-align: middle;\n",
       "    }\n",
       "\n",
       "    .dataframe tbody tr th {\n",
       "        vertical-align: top;\n",
       "    }\n",
       "\n",
       "    .dataframe thead th {\n",
       "        text-align: right;\n",
       "    }\n",
       "</style>\n",
       "<table border=\"1\" class=\"dataframe\">\n",
       "  <thead>\n",
       "    <tr style=\"text-align: right;\">\n",
       "      <th>Exited</th>\n",
       "      <th>0</th>\n",
       "      <th>1</th>\n",
       "      <th>Total</th>\n",
       "    </tr>\n",
       "    <tr>\n",
       "      <th>Complain</th>\n",
       "      <th></th>\n",
       "      <th></th>\n",
       "      <th></th>\n",
       "    </tr>\n",
       "  </thead>\n",
       "  <tbody>\n",
       "    <tr>\n",
       "      <th>0</th>\n",
       "      <td>7939</td>\n",
       "      <td>4</td>\n",
       "      <td>7943</td>\n",
       "    </tr>\n",
       "    <tr>\n",
       "      <th>1</th>\n",
       "      <td>10</td>\n",
       "      <td>2027</td>\n",
       "      <td>2037</td>\n",
       "    </tr>\n",
       "  </tbody>\n",
       "</table>\n",
       "</div>"
      ],
      "text/plain": [
       "Exited       0     1  Total\n",
       "Complain                   \n",
       "0         7939     4   7943\n",
       "1           10  2027   2037"
      ]
     },
     "execution_count": 29,
     "metadata": {},
     "output_type": "execute_result"
    }
   ],
   "source": [
    "column_sum = cont.sum(axis=1)\n",
    "cont['Total']= column_sum\n",
    "cont"
   ]
  },
  {
   "cell_type": "markdown",
   "id": "9fbb3789",
   "metadata": {},
   "source": [
    "### Contingency table "
   ]
  },
  {
   "cell_type": "code",
   "execution_count": 30,
   "id": "9d1b7101",
   "metadata": {},
   "outputs": [
    {
     "data": {
      "text/html": [
       "<div>\n",
       "<style scoped>\n",
       "    .dataframe tbody tr th:only-of-type {\n",
       "        vertical-align: middle;\n",
       "    }\n",
       "\n",
       "    .dataframe tbody tr th {\n",
       "        vertical-align: top;\n",
       "    }\n",
       "\n",
       "    .dataframe thead th {\n",
       "        text-align: right;\n",
       "    }\n",
       "</style>\n",
       "<table border=\"1\" class=\"dataframe\">\n",
       "  <thead>\n",
       "    <tr style=\"text-align: right;\">\n",
       "      <th>Exited</th>\n",
       "      <th>0</th>\n",
       "      <th>1</th>\n",
       "      <th>Total</th>\n",
       "    </tr>\n",
       "    <tr>\n",
       "      <th>Complain</th>\n",
       "      <th></th>\n",
       "      <th></th>\n",
       "      <th></th>\n",
       "    </tr>\n",
       "  </thead>\n",
       "  <tbody>\n",
       "    <tr>\n",
       "      <th>0</th>\n",
       "      <td>7939.0</td>\n",
       "      <td>4.0</td>\n",
       "      <td>7943.0</td>\n",
       "    </tr>\n",
       "    <tr>\n",
       "      <th>1</th>\n",
       "      <td>10.0</td>\n",
       "      <td>2027.0</td>\n",
       "      <td>2037.0</td>\n",
       "    </tr>\n",
       "    <tr>\n",
       "      <th>Total</th>\n",
       "      <td>7949.0</td>\n",
       "      <td>2031.0</td>\n",
       "      <td>9980.0</td>\n",
       "    </tr>\n",
       "  </tbody>\n",
       "</table>\n",
       "</div>"
      ],
      "text/plain": [
       "Exited         0       1   Total\n",
       "Complain                        \n",
       "0         7939.0     4.0  7943.0\n",
       "1           10.0  2027.0  2037.0\n",
       "Total     7949.0  2031.0  9980.0"
      ]
     },
     "execution_count": 30,
     "metadata": {},
     "output_type": "execute_result"
    }
   ],
   "source": [
    "row_sum = cont.sum(axis=0)\n",
    "cont.loc['Total',:]= row_sum\n",
    "cont"
   ]
  },
  {
   "cell_type": "markdown",
   "id": "a7f6e347",
   "metadata": {},
   "source": [
    "### Expected values table"
   ]
  },
  {
   "cell_type": "code",
   "execution_count": 31,
   "id": "b8da978d",
   "metadata": {},
   "outputs": [
    {
     "data": {
      "text/html": [
       "<div>\n",
       "<style scoped>\n",
       "    .dataframe tbody tr th:only-of-type {\n",
       "        vertical-align: middle;\n",
       "    }\n",
       "\n",
       "    .dataframe tbody tr th {\n",
       "        vertical-align: top;\n",
       "    }\n",
       "\n",
       "    .dataframe thead th {\n",
       "        text-align: right;\n",
       "    }\n",
       "</style>\n",
       "<table border=\"1\" class=\"dataframe\">\n",
       "  <thead>\n",
       "    <tr style=\"text-align: right;\">\n",
       "      <th></th>\n",
       "      <th>0</th>\n",
       "      <th>1</th>\n",
       "    </tr>\n",
       "  </thead>\n",
       "  <tbody>\n",
       "    <tr>\n",
       "      <th>0</th>\n",
       "      <td>6326.543788</td>\n",
       "      <td>1622.456212</td>\n",
       "    </tr>\n",
       "    <tr>\n",
       "      <th>1</th>\n",
       "      <td>1616.456212</td>\n",
       "      <td>414.543788</td>\n",
       "    </tr>\n",
       "  </tbody>\n",
       "</table>\n",
       "</div>"
      ],
      "text/plain": [
       "             0            1\n",
       "0  6326.543788  1622.456212\n",
       "1  1616.456212   414.543788"
      ]
     },
     "execution_count": 31,
     "metadata": {},
     "output_type": "execute_result"
    }
   ],
   "source": [
    "\n",
    "exp_table =[[None]*2 for _ in range(2) ]\n",
    "\n",
    "for i in cont.index[:-1]:\n",
    "    for j in cont.columns[:-1]:\n",
    "        val = row_sum[i] * column_sum[j]/grand_total\n",
    "        exp_table[i][j] = val\n",
    "    \n",
    "    \n",
    "exp_table = pd.DataFrame(exp_table)\n",
    "exp_table"
   ]
  },
  {
   "cell_type": "markdown",
   "id": "169f6f9a",
   "metadata": {},
   "source": [
    "### scipy.stats Expected values table"
   ]
  },
  {
   "cell_type": "code",
   "execution_count": 32,
   "id": "f61e5869",
   "metadata": {},
   "outputs": [
    {
     "data": {
      "text/plain": [
       "array([[6326.54378758, 1616.45621242],\n",
       "       [1622.45621242,  414.54378758]])"
      ]
     },
     "execution_count": 32,
     "metadata": {},
     "output_type": "execute_result"
    }
   ],
   "source": [
    "expected"
   ]
  },
  {
   "cell_type": "markdown",
   "id": "5e86091a",
   "metadata": {},
   "source": [
    "### Difference table"
   ]
  },
  {
   "cell_type": "code",
   "execution_count": 33,
   "id": "b8e51d92",
   "metadata": {},
   "outputs": [
    {
     "data": {
      "text/html": [
       "<div>\n",
       "<style scoped>\n",
       "    .dataframe tbody tr th:only-of-type {\n",
       "        vertical-align: middle;\n",
       "    }\n",
       "\n",
       "    .dataframe tbody tr th {\n",
       "        vertical-align: top;\n",
       "    }\n",
       "\n",
       "    .dataframe thead th {\n",
       "        text-align: right;\n",
       "    }\n",
       "</style>\n",
       "<table border=\"1\" class=\"dataframe\">\n",
       "  <thead>\n",
       "    <tr style=\"text-align: right;\">\n",
       "      <th>Exited</th>\n",
       "      <th>0</th>\n",
       "      <th>1</th>\n",
       "    </tr>\n",
       "    <tr>\n",
       "      <th>Complain</th>\n",
       "      <th></th>\n",
       "      <th></th>\n",
       "    </tr>\n",
       "  </thead>\n",
       "  <tbody>\n",
       "    <tr>\n",
       "      <th>0</th>\n",
       "      <td>1612.456212</td>\n",
       "      <td>-1618.456212</td>\n",
       "    </tr>\n",
       "    <tr>\n",
       "      <th>1</th>\n",
       "      <td>-1606.456212</td>\n",
       "      <td>1612.456212</td>\n",
       "    </tr>\n",
       "  </tbody>\n",
       "</table>\n",
       "</div>"
      ],
      "text/plain": [
       "Exited              0            1\n",
       "Complain                          \n",
       "0         1612.456212 -1618.456212\n",
       "1        -1606.456212  1612.456212"
      ]
     },
     "execution_count": 33,
     "metadata": {},
     "output_type": "execute_result"
    }
   ],
   "source": [
    "diff_table = cont_table - exp_table\n",
    "diff_table"
   ]
  },
  {
   "cell_type": "markdown",
   "id": "633933a8",
   "metadata": {},
   "source": [
    "### Squared Difference"
   ]
  },
  {
   "cell_type": "code",
   "execution_count": 34,
   "id": "bec34a44",
   "metadata": {},
   "outputs": [
    {
     "data": {
      "text/html": [
       "<div>\n",
       "<style scoped>\n",
       "    .dataframe tbody tr th:only-of-type {\n",
       "        vertical-align: middle;\n",
       "    }\n",
       "\n",
       "    .dataframe tbody tr th {\n",
       "        vertical-align: top;\n",
       "    }\n",
       "\n",
       "    .dataframe thead th {\n",
       "        text-align: right;\n",
       "    }\n",
       "</style>\n",
       "<table border=\"1\" class=\"dataframe\">\n",
       "  <thead>\n",
       "    <tr style=\"text-align: right;\">\n",
       "      <th>Exited</th>\n",
       "      <th>0</th>\n",
       "      <th>1</th>\n",
       "    </tr>\n",
       "    <tr>\n",
       "      <th>Complain</th>\n",
       "      <th></th>\n",
       "      <th></th>\n",
       "    </tr>\n",
       "  </thead>\n",
       "  <tbody>\n",
       "    <tr>\n",
       "      <th>0</th>\n",
       "      <td>2.600015e+06</td>\n",
       "      <td>2.619401e+06</td>\n",
       "    </tr>\n",
       "    <tr>\n",
       "      <th>1</th>\n",
       "      <td>2.580702e+06</td>\n",
       "      <td>2.600015e+06</td>\n",
       "    </tr>\n",
       "  </tbody>\n",
       "</table>\n",
       "</div>"
      ],
      "text/plain": [
       "Exited               0             1\n",
       "Complain                            \n",
       "0         2.600015e+06  2.619401e+06\n",
       "1         2.580702e+06  2.600015e+06"
      ]
     },
     "execution_count": 34,
     "metadata": {},
     "output_type": "execute_result"
    }
   ],
   "source": [
    "diff_2 = diff_table**2\n",
    "diff_2"
   ]
  },
  {
   "cell_type": "markdown",
   "id": "b0d153c9",
   "metadata": {},
   "source": [
    "### Divide by Expected"
   ]
  },
  {
   "cell_type": "code",
   "execution_count": 35,
   "id": "d1a94924",
   "metadata": {},
   "outputs": [
    {
     "data": {
      "text/html": [
       "<div>\n",
       "<style scoped>\n",
       "    .dataframe tbody tr th:only-of-type {\n",
       "        vertical-align: middle;\n",
       "    }\n",
       "\n",
       "    .dataframe tbody tr th {\n",
       "        vertical-align: top;\n",
       "    }\n",
       "\n",
       "    .dataframe thead th {\n",
       "        text-align: right;\n",
       "    }\n",
       "</style>\n",
       "<table border=\"1\" class=\"dataframe\">\n",
       "  <thead>\n",
       "    <tr style=\"text-align: right;\">\n",
       "      <th>Exited</th>\n",
       "      <th>0</th>\n",
       "      <th>1</th>\n",
       "    </tr>\n",
       "    <tr>\n",
       "      <th>Complain</th>\n",
       "      <th></th>\n",
       "      <th></th>\n",
       "    </tr>\n",
       "  </thead>\n",
       "  <tbody>\n",
       "    <tr>\n",
       "      <th>0</th>\n",
       "      <td>410.969263</td>\n",
       "      <td>1614.466074</td>\n",
       "    </tr>\n",
       "    <tr>\n",
       "      <th>1</th>\n",
       "      <td>1596.518076</td>\n",
       "      <td>6271.991319</td>\n",
       "    </tr>\n",
       "  </tbody>\n",
       "</table>\n",
       "</div>"
      ],
      "text/plain": [
       "Exited              0            1\n",
       "Complain                          \n",
       "0          410.969263  1614.466074\n",
       "1         1596.518076  6271.991319"
      ]
     },
     "execution_count": 35,
     "metadata": {},
     "output_type": "execute_result"
    }
   ],
   "source": [
    "diff_3 = diff_2 / exp_table\n",
    "diff_3"
   ]
  },
  {
   "cell_type": "markdown",
   "id": "a440eded",
   "metadata": {},
   "source": [
    "### get  test statistic"
   ]
  },
  {
   "cell_type": "code",
   "execution_count": 36,
   "id": "6b5ddb8b",
   "metadata": {},
   "outputs": [
    {
     "data": {
      "text/plain": [
       "9893.944731978527"
      ]
     },
     "execution_count": 36,
     "metadata": {},
     "output_type": "execute_result"
    }
   ],
   "source": [
    "chi_2_score = diff_3.sum().sum()\n",
    "chi_2_score"
   ]
  },
  {
   "cell_type": "markdown",
   "id": "6281df32",
   "metadata": {},
   "source": [
    "# Q3.\n",
    "### What are the characteristics and statistics (in terms of gender, age groups, and tenure etc,) of the customers that are more likely to complain? Provide an informative profile description of those type of customers."
   ]
  },
  {
   "cell_type": "code",
   "execution_count": 37,
   "id": "08a23c7d",
   "metadata": {},
   "outputs": [
    {
     "data": {
      "image/png": "[encoded data removed]",
      "text/plain": [
       "<Figure size 500x500 with 1 Axes>"
      ]
     },
     "metadata": {},
     "output_type": "display_data"
    }
   ],
   "source": [
    "fig, ax = plt.subplots(figsize=(5,5))\n",
    "df[df['Complain'] == 1].groupby('Gender').size().plot(kind='bar',color=color[1],ax=ax)\n",
    "\n",
    "ax.set_title('Complaints by Gender')\n",
    "\n",
    "ax.spines['right'].set_visible(False)\n",
    "ax.spines['top'].set_visible(False)\n",
    "\n",
    "plt.savefig('Pics/compl_gender.png',bbox_inches='tight')"
   ]
  },
  {
   "cell_type": "code",
   "execution_count": 38,
   "id": "75a2f50c",
   "metadata": {},
   "outputs": [
    {
     "data": {
      "image/png": "[encoded data removed]",
      "text/plain": [
       "<Figure size 500x500 with 1 Axes>"
      ]
     },
     "metadata": {},
     "output_type": "display_data"
    }
   ],
   "source": [
    "fig, ax = plt.subplots(figsize=(5,5))\n",
    "df[df['Complain'] == 1].groupby(['Age']).size().plot(kind='line',color=color[1],ax=ax)\n",
    "\n",
    "ax.set_title('Complaints by Age')\n",
    "ax.set_ylabel(\"Number of Complaints\")\n",
    "\n",
    "ax.spines['right'].set_visible(False)\n",
    "ax.spines['top'].set_visible(False)\n",
    "\n",
    "plt.savefig('Pics/compl_age.png',bbox_inches='tight')"
   ]
  },
  {
   "cell_type": "code",
   "execution_count": 39,
   "id": "71039799",
   "metadata": {},
   "outputs": [
    {
     "data": {
      "text/plain": [
       "Tenure\n",
       "0      95\n",
       "1     233\n",
       "2     200\n",
       "3     211\n",
       "4     204\n",
       "5     210\n",
       "6     198\n",
       "7     175\n",
       "8     195\n",
       "9     214\n",
       "10    102\n",
       "dtype: int64"
      ]
     },
     "execution_count": 39,
     "metadata": {},
     "output_type": "execute_result"
    }
   ],
   "source": [
    "df[df['Complain'] == 1].groupby(['Tenure']).size()"
   ]
  },
  {
   "cell_type": "code",
   "execution_count": 40,
   "id": "41e6781c",
   "metadata": {},
   "outputs": [
    {
     "data": {
      "image/png": "[encoded data removed]",
      "text/plain": [
       "<Figure size 500x500 with 1 Axes>"
      ]
     },
     "metadata": {},
     "output_type": "display_data"
    }
   ],
   "source": [
    "fig, ax = plt.subplots(figsize=(5,5))\n",
    "df[df['Complain'] == 1].groupby(['Tenure']).size().plot(kind='line',color=color[1], ax=ax)\n",
    "\n",
    "ax.spines['right'].set_visible(False)\n",
    "ax.spines['top'].set_visible(False)\n",
    "\n",
    "ax.set_title('Complaints by Tenure')\n",
    "ax.set_ylabel(\"Number of Complaints\")\n",
    "\n",
    "plt.savefig('Pics/compl_tenure.png',bbox_inches='tight')\n"
   ]
  },
  {
   "cell_type": "code",
   "execution_count": 41,
   "id": "06dd1a9a",
   "metadata": {},
   "outputs": [
    {
     "data": {
      "text/plain": [
       "<AxesSubplot: xlabel='Age'>"
      ]
     },
     "execution_count": 41,
     "metadata": {},
     "output_type": "execute_result"
    },
    {
     "data": {
      "image/png": "[encoded data removed]",
      "text/plain": [
       "<Figure size 640x480 with 1 Axes>"
      ]
     },
     "metadata": {},
     "output_type": "display_data"
    }
   ],
   "source": [
    "fig , ax = plt.subplots()\n",
    "\n",
    "df[df['Complain'] == 1].groupby(['Age']).size().plot(kind='line',ax=ax)\n",
    "df[(df['Complain'] == 1)&(df['Gender']=='Female')].groupby(['Age']).size().plot(kind='line',ax =ax)\n",
    "df[(df['Complain'] == 1)&(df['Gender']=='Male')].groupby(['Age']).size().plot(kind='line',ax =ax)"
   ]
  },
  {
   "cell_type": "code",
   "execution_count": 42,
   "id": "62e9e576",
   "metadata": {},
   "outputs": [
    {
     "data": {
      "text/plain": [
       "Location\n",
       "France     809\n",
       "Germany    817\n",
       "Spain      411\n",
       "dtype: int64"
      ]
     },
     "execution_count": 42,
     "metadata": {},
     "output_type": "execute_result"
    }
   ],
   "source": [
    "df[df['Complain'] == 1].groupby('Location').size()"
   ]
  },
  {
   "cell_type": "code",
   "execution_count": 43,
   "id": "7a705b58",
   "metadata": {},
   "outputs": [
    {
     "data": {
      "text/plain": [
       "count      9980.000000\n",
       "mean     100092.332323\n",
       "std       57508.764007\n",
       "min          11.580000\n",
       "25%       51014.837500\n",
       "50%      100168.240000\n",
       "75%      149400.107500\n",
       "max      199992.480000\n",
       "Name: EstimatedSalary, dtype: float64"
      ]
     },
     "execution_count": 43,
     "metadata": {},
     "output_type": "execute_result"
    }
   ],
   "source": [
    "df['EstimatedSalary'].describe()"
   ]
  },
  {
   "cell_type": "markdown",
   "id": "610f8c28",
   "metadata": {},
   "source": [
    "### Create income groups based on quartiles"
   ]
  },
  {
   "cell_type": "code",
   "execution_count": 44,
   "id": "d92ee929",
   "metadata": {},
   "outputs": [],
   "source": [
    "\n",
    "df['IncomeGroup'] = pd.cut(df['EstimatedSalary'],\n",
    "                           bins=[0, 51014.8375, 100168.24, 149400.1075, df['EstimatedSalary'].max()],\n",
    "                           labels=['Low', 'Medium_Low', 'Medium_High', 'High'])\n"
   ]
  },
  {
   "cell_type": "code",
   "execution_count": 45,
   "id": "4619c1d3",
   "metadata": {},
   "outputs": [
    {
     "data": {
      "text/html": [
       "<div>\n",
       "<style scoped>\n",
       "    .dataframe tbody tr th:only-of-type {\n",
       "        vertical-align: middle;\n",
       "    }\n",
       "\n",
       "    .dataframe tbody tr th {\n",
       "        vertical-align: top;\n",
       "    }\n",
       "\n",
       "    .dataframe thead th {\n",
       "        text-align: right;\n",
       "    }\n",
       "</style>\n",
       "<table border=\"1\" class=\"dataframe\">\n",
       "  <thead>\n",
       "    <tr style=\"text-align: right;\">\n",
       "      <th>Complain</th>\n",
       "      <th>0</th>\n",
       "      <th>1</th>\n",
       "    </tr>\n",
       "    <tr>\n",
       "      <th>IncomeGroup</th>\n",
       "      <th></th>\n",
       "      <th></th>\n",
       "    </tr>\n",
       "  </thead>\n",
       "  <tbody>\n",
       "    <tr>\n",
       "      <th>Low</th>\n",
       "      <td>1996</td>\n",
       "      <td>499</td>\n",
       "    </tr>\n",
       "    <tr>\n",
       "      <th>Medium_Low</th>\n",
       "      <td>2000</td>\n",
       "      <td>495</td>\n",
       "    </tr>\n",
       "    <tr>\n",
       "      <th>Medium_High</th>\n",
       "      <td>1990</td>\n",
       "      <td>505</td>\n",
       "    </tr>\n",
       "    <tr>\n",
       "      <th>High</th>\n",
       "      <td>1957</td>\n",
       "      <td>538</td>\n",
       "    </tr>\n",
       "  </tbody>\n",
       "</table>\n",
       "</div>"
      ],
      "text/plain": [
       "Complain        0    1\n",
       "IncomeGroup           \n",
       "Low          1996  499\n",
       "Medium_Low   2000  495\n",
       "Medium_High  1990  505\n",
       "High         1957  538"
      ]
     },
     "execution_count": 45,
     "metadata": {},
     "output_type": "execute_result"
    }
   ],
   "source": [
    "df.groupby(['IncomeGroup','Complain']).size().unstack()"
   ]
  },
  {
   "cell_type": "code",
   "execution_count": 46,
   "id": "78ea7c3c",
   "metadata": {},
   "outputs": [
    {
     "data": {
      "image/png": "[encoded data removed]",
      "text/plain": [
       "<Figure size 1000x500 with 1 Axes>"
      ]
     },
     "metadata": {},
     "output_type": "display_data"
    }
   ],
   "source": [
    "import matplotlib.pyplot as plt\n",
    "\n",
    "\n",
    "complaint_data = df.groupby(['IncomeGroup','Complain']).size().unstack()\n",
    "\n",
    "fig, ax = plt.subplots(figsize=(10,5))\n",
    "complaint_data.plot(kind='bar', stacked=True, color=color, ax=ax)\n",
    "\n",
    "ax.set_xlabel('Income Group')\n",
    "ax.set_ylabel('Number of Customers')\n",
    "ax.set_title('Number of Complaints by Income Group')\n",
    "ax.legend(['No', 'Yes'], title='Complain', loc='upper right')\n",
    "\n",
    "\n",
    "ax.spines['right'].set_visible(False)\n",
    "ax.spines['top'].set_visible(False)\n",
    "\n",
    "plt.savefig('Pics/compl_income.png',bbox_inches='tight')\n",
    "\n",
    "plt.show()\n"
   ]
  },
  {
   "cell_type": "code",
   "execution_count": 47,
   "id": "cd0652f3",
   "metadata": {},
   "outputs": [
    {
     "data": {
      "text/plain": [
       "count      9980.000000\n",
       "mean      76523.354960\n",
       "std       62405.199941\n",
       "min           0.000000\n",
       "25%           0.000000\n",
       "50%       97258.330000\n",
       "75%      127660.767500\n",
       "max      250898.090000\n",
       "Name: Balance, dtype: float64"
      ]
     },
     "execution_count": 47,
     "metadata": {},
     "output_type": "execute_result"
    }
   ],
   "source": [
    "df['Balance'].describe()"
   ]
  },
  {
   "cell_type": "markdown",
   "id": "a402ee8d",
   "metadata": {},
   "source": [
    "### Create balance groups"
   ]
  },
  {
   "cell_type": "code",
   "execution_count": 48,
   "id": "8dd7a6e5",
   "metadata": {},
   "outputs": [],
   "source": [
    "df['BalanceGroup'] = pd.cut(df['Balance'],\n",
    "                            bins=[-1, 0, 100000, 130000, df['Balance'].max()],\n",
    "                            labels=['Zero', 'Low', 'Medium', 'High'])"
   ]
  },
  {
   "cell_type": "code",
   "execution_count": 49,
   "id": "34f519a3",
   "metadata": {},
   "outputs": [
    {
     "data": {
      "text/html": [
       "<div>\n",
       "<style scoped>\n",
       "    .dataframe tbody tr th:only-of-type {\n",
       "        vertical-align: middle;\n",
       "    }\n",
       "\n",
       "    .dataframe tbody tr th {\n",
       "        vertical-align: top;\n",
       "    }\n",
       "\n",
       "    .dataframe thead th {\n",
       "        text-align: right;\n",
       "    }\n",
       "</style>\n",
       "<table border=\"1\" class=\"dataframe\">\n",
       "  <thead>\n",
       "    <tr style=\"text-align: right;\">\n",
       "      <th>Complain</th>\n",
       "      <th>0</th>\n",
       "      <th>1</th>\n",
       "    </tr>\n",
       "    <tr>\n",
       "      <th>BalanceGroup</th>\n",
       "      <th></th>\n",
       "      <th></th>\n",
       "    </tr>\n",
       "  </thead>\n",
       "  <tbody>\n",
       "    <tr>\n",
       "      <th>Zero</th>\n",
       "      <td>3108</td>\n",
       "      <td>500</td>\n",
       "    </tr>\n",
       "    <tr>\n",
       "      <th>Low</th>\n",
       "      <td>1256</td>\n",
       "      <td>324</td>\n",
       "    </tr>\n",
       "    <tr>\n",
       "      <th>Medium</th>\n",
       "      <td>1839</td>\n",
       "      <td>672</td>\n",
       "    </tr>\n",
       "    <tr>\n",
       "      <th>High</th>\n",
       "      <td>1740</td>\n",
       "      <td>541</td>\n",
       "    </tr>\n",
       "  </tbody>\n",
       "</table>\n",
       "</div>"
      ],
      "text/plain": [
       "Complain         0    1\n",
       "BalanceGroup           \n",
       "Zero          3108  500\n",
       "Low           1256  324\n",
       "Medium        1839  672\n",
       "High          1740  541"
      ]
     },
     "execution_count": 49,
     "metadata": {},
     "output_type": "execute_result"
    }
   ],
   "source": [
    "cross_tab_balance = df.groupby(['BalanceGroup','Complain']).size().unstack()\n",
    "cross_tab_balance"
   ]
  },
  {
   "cell_type": "code",
   "execution_count": 50,
   "id": "c9973d4a",
   "metadata": {},
   "outputs": [
    {
     "data": {
      "image/png": "[encoded data removed]",
      "text/plain": [
       "<Figure size 1000x600 with 1 Axes>"
      ]
     },
     "metadata": {},
     "output_type": "display_data"
    }
   ],
   "source": [
    "fig, ax = plt.subplots(figsize=(10,5))\n",
    "cross_tab_balance.plot(kind='bar', stacked=True, figsize=(10, 6), color=color, ax=ax)\n",
    "\n",
    "ax.set_xlabel(\"Balance Group\")\n",
    "ax.set_ylabel(\"Number of Customers\")\n",
    "ax.set_title(\"Complaints Distribution Across Balance Groups\")\n",
    "ax.legend(['No', 'Yes'], title='Complain', loc='upper right')\n",
    "\n",
    "plt.xticks(rotation=0)\n",
    "\n",
    "ax.spines['right'].set_visible(False)\n",
    "ax.spines['top'].set_visible(False)\n",
    "\n",
    "plt.savefig('Pics/compl_balance.png',bbox_inches='tight')\n",
    "\n",
    "plt.show()\n"
   ]
  },
  {
   "cell_type": "code",
   "execution_count": 51,
   "id": "20c529e3",
   "metadata": {},
   "outputs": [
    {
     "data": {
      "text/html": [
       "<div>\n",
       "<style scoped>\n",
       "    .dataframe tbody tr th:only-of-type {\n",
       "        vertical-align: middle;\n",
       "    }\n",
       "\n",
       "    .dataframe tbody tr th {\n",
       "        vertical-align: top;\n",
       "    }\n",
       "\n",
       "    .dataframe thead th {\n",
       "        text-align: right;\n",
       "    }\n",
       "</style>\n",
       "<table border=\"1\" class=\"dataframe\">\n",
       "  <thead>\n",
       "    <tr style=\"text-align: right;\">\n",
       "      <th>Complain</th>\n",
       "      <th>0</th>\n",
       "      <th>1</th>\n",
       "    </tr>\n",
       "    <tr>\n",
       "      <th>BalanceGroup</th>\n",
       "      <th></th>\n",
       "      <th></th>\n",
       "    </tr>\n",
       "  </thead>\n",
       "  <tbody>\n",
       "    <tr>\n",
       "      <th>Zero</th>\n",
       "      <td>0.861419</td>\n",
       "      <td>0.138581</td>\n",
       "    </tr>\n",
       "    <tr>\n",
       "      <th>Low</th>\n",
       "      <td>0.794937</td>\n",
       "      <td>0.205063</td>\n",
       "    </tr>\n",
       "    <tr>\n",
       "      <th>Medium</th>\n",
       "      <td>0.732378</td>\n",
       "      <td>0.267622</td>\n",
       "    </tr>\n",
       "    <tr>\n",
       "      <th>High</th>\n",
       "      <td>0.762823</td>\n",
       "      <td>0.237177</td>\n",
       "    </tr>\n",
       "  </tbody>\n",
       "</table>\n",
       "</div>"
      ],
      "text/plain": [
       "Complain             0         1\n",
       "BalanceGroup                    \n",
       "Zero          0.861419  0.138581\n",
       "Low           0.794937  0.205063\n",
       "Medium        0.732378  0.267622\n",
       "High          0.762823  0.237177"
      ]
     },
     "execution_count": 51,
     "metadata": {},
     "output_type": "execute_result"
    }
   ],
   "source": [
    "# Calculate the proportions of complaints\n",
    "proportions = cross_tab_balance.div(cross_tab_balance.sum(axis=1), axis=0)\n",
    "proportions\n"
   ]
  },
  {
   "cell_type": "code",
   "execution_count": 52,
   "id": "1bb4a22b",
   "metadata": {},
   "outputs": [
    {
     "data": {
      "image/png": "[encoded data removed]",
      "text/plain": [
       "<Figure size 1000x600 with 1 Axes>"
      ]
     },
     "metadata": {},
     "output_type": "display_data"
    }
   ],
   "source": [
    "fig, ax = plt.subplots(figsize=(10,5))\n",
    "proportions.plot(kind='bar', stacked=True, figsize=(10, 6), color=color, ax=ax)\n",
    "ax.set_xlabel(\"Balance Group\")\n",
    "ax.set_ylabel(\"Proportion of Customers\")\n",
    "ax.set_title(\"Proportions of Complaints Across Balance Groups\")\n",
    "ax.legend(['No', 'Yes'], title='Complain', loc='upper right')\n",
    "\n",
    "\n",
    "ax.spines['right'].set_visible(False)\n",
    "ax.spines['top'].set_visible(False)\n",
    "\n",
    "plt.savefig('Pics/compl_balance_prop.png',bbox_inches='tight')\n",
    "\n",
    "plt.xticks(rotation=0)\n",
    "plt.show()\n"
   ]
  },
  {
   "cell_type": "markdown",
   "id": "9b581ccd",
   "metadata": {},
   "source": [
    "# Q4\n",
    "### Is there a significant difference between the credit scores of all the customers that have complained and those who have not in the period covered in the dataset?"
   ]
  },
  {
   "cell_type": "code",
   "execution_count": 53,
   "id": "3feb1eec",
   "metadata": {},
   "outputs": [],
   "source": [
    "complained = df[df['Complain'] == 1]['CreditScore']\n",
    "not_complained = df[df['Complain'] == 0]['CreditScore']\n"
   ]
  },
  {
   "cell_type": "code",
   "execution_count": 54,
   "id": "f8e1d0a2",
   "metadata": {},
   "outputs": [
    {
     "data": {
      "text/plain": [
       "645.6602847324497"
      ]
     },
     "execution_count": 54,
     "metadata": {},
     "output_type": "execute_result"
    }
   ],
   "source": [
    "complained.mean()"
   ]
  },
  {
   "cell_type": "code",
   "execution_count": 55,
   "id": "9ddb7cb4",
   "metadata": {},
   "outputs": [
    {
     "data": {
      "text/plain": [
       "651.8062444920056"
      ]
     },
     "execution_count": 55,
     "metadata": {},
     "output_type": "execute_result"
    }
   ],
   "source": [
    "not_complained.mean()"
   ]
  },
  {
   "cell_type": "markdown",
   "id": "b4b9286f",
   "metadata": {},
   "source": [
    "### Normality test"
   ]
  },
  {
   "cell_type": "code",
   "execution_count": 56,
   "id": "71c10564",
   "metadata": {},
   "outputs": [
    {
     "data": {
      "image/png": "[encoded data removed]",
      "text/plain": [
       "<Figure size 1000x500 with 2 Axes>"
      ]
     },
     "metadata": {},
     "output_type": "display_data"
    }
   ],
   "source": [
    "import matplotlib.pyplot as plt\n",
    "import scipy.stats as stats\n",
    "\n",
    "fig, ax = plt.subplots(nrows=1,ncols=2 ,figsize=(10, 5))\n",
    "\n",
    "\n",
    "ax[0].hist(complained)\n",
    "ax[0].set_title('Histogram of Complained Scores')\n",
    "ax[1].hist(not_complained)\n",
    "ax[1].set_title('Histogram of Not Complained Scores')\n",
    "\n",
    "plt.tight_layout()\n",
    "plt.show()\n",
    "\n"
   ]
  },
  {
   "cell_type": "code",
   "execution_count": 57,
   "id": "7ff4e687",
   "metadata": {},
   "outputs": [
    {
     "name": "stdout",
     "output_type": "stream",
     "text": [
      "T-statistic: -2.5614564208056954\n",
      "p-value: 0.010437996812274256\n"
     ]
    }
   ],
   "source": [
    "t_stat, p_val = stats.ttest_ind(complained, not_complained)\n",
    "\n",
    "print(f'T-statistic: {t_stat}')\n",
    "print(f'p-value: {p_val}')\n"
   ]
  },
  {
   "cell_type": "code",
   "execution_count": 58,
   "id": "a349f434",
   "metadata": {},
   "outputs": [
    {
     "name": "stdout",
     "output_type": "stream",
     "text": [
      "Reject the null hypothesis: There is a significant difference \n"
     ]
    }
   ],
   "source": [
    "alpha = 0.05\n",
    "if p_val < alpha:\n",
    "    print(\"Reject the null hypothesis: There is a significant difference \")\n",
    "else:\n",
    "    print(\"Fail to reject the null hypothesis: There is no significant difference \")\n"
   ]
  },
  {
   "cell_type": "code",
   "execution_count": 59,
   "id": "ee7dc535",
   "metadata": {},
   "outputs": [
    {
     "data": {
      "image/png": "[encoded data removed]",
      "text/plain": [
       "<Figure size 500x500 with 1 Axes>"
      ]
     },
     "metadata": {},
     "output_type": "display_data"
    }
   ],
   "source": [
    "import numpy as np\n",
    "import matplotlib.pyplot as plt\n",
    "import scipy.stats as stats\n",
    "\n",
    "\n",
    "t_statistic = -2.561  \n",
    "dfr = 9978 \n",
    "upper = stats.t.ppf(1 - alpha / 2, dfr)\n",
    "lower = stats.t.ppf(alpha / 2, dfr)\n",
    "\n",
    "x = np.linspace(-4, 4, 500)\n",
    "\n",
    "\n",
    "y = stats.t.pdf(x, dfr)\n",
    "\n",
    "\n",
    "fig, ax = plt.subplots(figsize=(5, 5))\n",
    "ax.axis(False)\n",
    "ax.set_title('t-Distribution')\n",
    "\n",
    "\n",
    "ax.plot(x, y, color='#4a4e69', alpha=1)\n",
    "\n",
    "ax.fill_between(x, y, where=(x < lower) | (x > upper), color='#ff9b54', alpha=0.5, label='Rejection region')\n",
    "\n",
    "# Plot the t-statistic\n",
    "ax.vlines(t_statistic, 0, 0.12, linestyle='--', color='#669bbc')\n",
    "ax.plot(t_statistic, 0, marker='o', color='#669bbc', label='T-statistic')\n",
    "\n",
    "# Annotation for t-statistic\n",
    "ax.annotate(f't-stat = {t_statistic:.02f}', xy=(t_statistic, 0), xytext=(-1, 0.12),\n",
    "            arrowprops=dict(arrowstyle='-', color='#669bbc', lw=0.8))\n",
    "\n",
    "\n",
    "ax.annotate(f'$\\\\alpha={lower:0.2f}$', xy =(lower, 0),\n",
    "                    xytext =(0, 0.05), \n",
    "                    arrowprops = dict(\n",
    "                        arrowstyle=\"-\",\n",
    "                        color='grey',\n",
    "                        lw=0.8\n",
    "                                     )\n",
    "               )\n",
    "\n",
    "\n",
    "\n",
    "ax.set_xlabel('$t$')\n",
    "ax.set_ylabel('Density')\n",
    "\n",
    "\n",
    "ax.set_title('Independent Samples t-Test.',y=1.1)\n",
    "\n",
    "\n",
    "for coord in [lower, upper]:\n",
    "    ax.vlines(coord, 0, 0.10,linestyle='--',color='#c1121f', alpha = 0.5)\n",
    "    \n",
    "ax.text(2, 0.35, r'$\\mu_{complained}$ = 645.66', fontsize=12, color='black')\n",
    "ax.text(2, 0.33, r'$\\mu_{not\\_complained}$ = 651.81', fontsize=12, color='black')\n",
    "    \n",
    "    \n",
    "ax.text(2.5, 0.25, r'$H_0$: $\\mu_1 = \\mu_2$', fontsize=12, color='black')\n",
    "ax.text(2.5, 0.23, r'$H_1$: $\\mu_1 \\neq \\mu_2$', fontsize=12, color='black')\n",
    "\n",
    "ax.text(2, 0.18, 'Reject $H_0$', color='#e71d36',fontsize=12)\n",
    "\n",
    "\n",
    "\n",
    "ax.legend(frameon=False,loc='upper left')\n",
    "\n",
    "plt.savefig('Pics/t_test_graph.png', bbox_inches='tight')\n",
    "plt.show()\n"
   ]
  },
  {
   "cell_type": "markdown",
   "id": "1f04fa62",
   "metadata": {},
   "source": [
    "# Q4 \n",
    "### Do the satisfaction scores on complain resolution provide indication of the customers’ likelihood of exiting the bank?"
   ]
  },
  {
   "cell_type": "code",
   "execution_count": 60,
   "id": "21694bae",
   "metadata": {},
   "outputs": [
    {
     "name": "stdout",
     "output_type": "stream",
     "text": [
      "Proportion of customers who exited: 0.2035070140280561\n"
     ]
    }
   ],
   "source": [
    "import pandas as pd\n",
    "import matplotlib.pyplot as plt\n",
    "\n",
    "exited_customers = df['Exited']\n",
    "\n",
    "exited_proportion = exited_customers.mean()\n",
    "print(f\"Proportion of customers who exited: {exited_proportion}\")\n",
    "\n"
   ]
  },
  {
   "cell_type": "code",
   "execution_count": 61,
   "id": "a6b5359c",
   "metadata": {},
   "outputs": [
    {
     "data": {
      "text/plain": [
       "Satisfaction Score\n",
       "1    0.200311\n",
       "2    0.217694\n",
       "3    0.196665\n",
       "4    0.205192\n",
       "5    0.197599\n",
       "Name: Exited, dtype: float64"
      ]
     },
     "execution_count": 61,
     "metadata": {},
     "output_type": "execute_result"
    }
   ],
   "source": [
    "df.groupby('Satisfaction Score')['Exited'].mean()"
   ]
  },
  {
   "cell_type": "code",
   "execution_count": 62,
   "id": "fbe63d04",
   "metadata": {},
   "outputs": [],
   "source": [
    "exited = df[df['Exited'] == 1]['Satisfaction Score']\n",
    "non_exited = df[df['Exited'] == 0]['Satisfaction Score']\n"
   ]
  },
  {
   "cell_type": "code",
   "execution_count": 63,
   "id": "e8fae558",
   "metadata": {},
   "outputs": [
    {
     "data": {
      "text/plain": [
       "2.9955686853766617"
      ]
     },
     "execution_count": 63,
     "metadata": {},
     "output_type": "execute_result"
    }
   ],
   "source": [
    "exited.mean()"
   ]
  },
  {
   "cell_type": "code",
   "execution_count": 64,
   "id": "45975a33",
   "metadata": {},
   "outputs": [
    {
     "data": {
      "text/plain": [
       "3.018115486224682"
      ]
     },
     "execution_count": 64,
     "metadata": {},
     "output_type": "execute_result"
    }
   ],
   "source": [
    "non_exited.mean()"
   ]
  },
  {
   "cell_type": "code",
   "execution_count": null,
   "id": "a2779c17",
   "metadata": {},
   "outputs": [],
   "source": []
  },
  {
   "cell_type": "code",
   "execution_count": 65,
   "id": "0edcd0a3",
   "metadata": {},
   "outputs": [
    {
     "name": "stdout",
     "output_type": "stream",
     "text": [
      "F-Statistic: 0.4161775837952518\n",
      "P-value: 0.5188653767539964\n",
      "There is no significant difference in satisfaction scores.\n"
     ]
    }
   ],
   "source": [
    "from scipy.stats import f_oneway\n",
    "\n",
    "f_stat, p_value = f_oneway(exited, non_exited)\n",
    "\n",
    "print(\"F-Statistic:\", f_stat)\n",
    "print(\"P-value:\", p_value)\n",
    "\n",
    "alpha = 0.05  \n",
    "\n",
    "if p_value < alpha:\n",
    "    print(\"There is a significant difference in satisfaction scores.\")\n",
    "else:\n",
    "    print(\"There is no significant difference in satisfaction scores.\")\n"
   ]
  },
  {
   "cell_type": "code",
   "execution_count": null,
   "id": "f2eb1168",
   "metadata": {},
   "outputs": [],
   "source": []
  },
  {
   "cell_type": "markdown",
   "id": "9e35a796",
   "metadata": {},
   "source": [
    "# Q5\n",
    "### The bank has a reward system where the customers earn points when they use their Diamond, Gold, Silver, and Platinum bank card. Determine if there is a significant difference in the average points earned by the different groups of customers."
   ]
  },
  {
   "cell_type": "code",
   "execution_count": 66,
   "id": "24f6ea73",
   "metadata": {},
   "outputs": [
    {
     "data": {
      "text/plain": [
       "Card Type\n",
       "DIAMOND     606.158210\n",
       "GOLD        606.924309\n",
       "PLATINUM    608.947833\n",
       "SILVER      604.078778\n",
       "Name: Point Earned, dtype: float64"
      ]
     },
     "execution_count": 66,
     "metadata": {},
     "output_type": "execute_result"
    }
   ],
   "source": [
    "df.groupby('Card Type')['Point Earned'].mean()"
   ]
  },
  {
   "cell_type": "code",
   "execution_count": 67,
   "id": "b6a06df7",
   "metadata": {},
   "outputs": [],
   "source": [
    "diamond_points = df[df['Card Type'] == 'DIAMOND']['Point Earned']\n",
    "gold_points = df[df['Card Type'] == 'GOLD']['Point Earned']\n",
    "silver_points = df[df['Card Type'] == 'SILVER']['Point Earned']\n",
    "platinum_points = df[df['Card Type'] == 'PLATINUM']['Point Earned']\n"
   ]
  },
  {
   "cell_type": "code",
   "execution_count": 68,
   "id": "15dc829e",
   "metadata": {},
   "outputs": [
    {
     "name": "stdout",
     "output_type": "stream",
     "text": [
      "F-statistic: 0.1976248954357644\n",
      "P-value: 0.8980588339589598\n",
      "There is no significant difference.\n"
     ]
    }
   ],
   "source": [
    "f_stat, p_value = stats.f_oneway(diamond_points, gold_points, silver_points, platinum_points)\n",
    "\n",
    "print(\"F-statistic:\", f_stat)\n",
    "print(\"P-value:\", p_value)\n",
    "\n",
    "\n",
    "alpha = 0.05  # significance level\n",
    "\n",
    "if p_value < alpha:\n",
    "    print(\"There is a significant difference.\")\n",
    "else:\n",
    "    print(\"There is no significant difference.\")"
   ]
  },
  {
   "cell_type": "code",
   "execution_count": null,
   "id": "bedea261",
   "metadata": {},
   "outputs": [],
   "source": []
  },
  {
   "cell_type": "code",
   "execution_count": null,
   "id": "8c238d24",
   "metadata": {},
   "outputs": [],
   "source": []
  },
  {
   "cell_type": "code",
   "execution_count": null,
   "id": "7e8d4e33",
   "metadata": {},
   "outputs": [],
   "source": []
  },
  {
   "cell_type": "code",
   "execution_count": null,
   "id": "6646c7a0",
   "metadata": {},
   "outputs": [],
   "source": []
  },
  {
   "cell_type": "markdown",
   "id": "6f4af971",
   "metadata": {},
   "source": [
    "## Part 2"
   ]
  },
  {
   "cell_type": "code",
   "execution_count": 69,
   "id": "17622537",
   "metadata": {},
   "outputs": [],
   "source": [
    "df = pd.read_csv('data/Main Sample.csv')"
   ]
  },
  {
   "cell_type": "code",
   "execution_count": 70,
   "id": "5bcb948f",
   "metadata": {},
   "outputs": [],
   "source": [
    "color=['#9a8c98','#4a4e69']"
   ]
  },
  {
   "cell_type": "markdown",
   "id": "73c0ec4e",
   "metadata": {},
   "source": [
    "### Plot imbalance"
   ]
  },
  {
   "cell_type": "code",
   "execution_count": 71,
   "id": "18356adc",
   "metadata": {},
   "outputs": [
    {
     "data": {
      "image/png": "[encoded data removed]",
      "text/plain": [
       "<Figure size 500x500 with 1 Axes>"
      ]
     },
     "metadata": {},
     "output_type": "display_data"
    }
   ],
   "source": [
    "fig, ax = plt.subplots(figsize=(5, 5))\n",
    "\n",
    "sns.countplot(x='Complain', data=df, ax=ax, color=color[1])\n",
    "ax.set_ylabel('Number of Observations')\n",
    "ax.set_xlabel('Complain Status')\n",
    "ax.set_title('Distribution of Complain Status')\n",
    "\n",
    "ax.tick_params(axis=\"y\", labelsize=8)\n",
    "ax.set_xticklabels(['No Complain', 'Complain'])\n",
    "\n",
    "ax.spines['right'].set_visible(False)\n",
    "ax.spines['top'].set_visible(False)\n",
    "\n",
    "plt.savefig('Pics/compl_imbalance.png', bbox_inches='tight')\n",
    "\n"
   ]
  },
  {
   "cell_type": "markdown",
   "id": "b3f2a5a4",
   "metadata": {},
   "source": [
    "### Under-sampling"
   ]
  },
  {
   "cell_type": "code",
   "execution_count": 72,
   "id": "aa85d220",
   "metadata": {},
   "outputs": [
    {
     "data": {
      "text/plain": [
       "Complain\n",
       "0    7943\n",
       "1    2037\n",
       "dtype: int64"
      ]
     },
     "execution_count": 72,
     "metadata": {},
     "output_type": "execute_result"
    }
   ],
   "source": [
    "df.groupby('Complain').size()"
   ]
  },
  {
   "cell_type": "code",
   "execution_count": 73,
   "id": "9fcdb757",
   "metadata": {},
   "outputs": [],
   "source": [
    "complain_0 = df[df['Complain'] == 0]\n",
    "complain_1 = df[df['Complain'] == 1]"
   ]
  },
  {
   "cell_type": "code",
   "execution_count": 74,
   "id": "26c1615e",
   "metadata": {},
   "outputs": [
    {
     "data": {
      "text/plain": [
       "2037"
      ]
     },
     "execution_count": 74,
     "metadata": {},
     "output_type": "execute_result"
    }
   ],
   "source": [
    "Count_Outcome_1 = complain_1.Complain.count()\n",
    "Count_Outcome_1"
   ]
  },
  {
   "cell_type": "code",
   "execution_count": 75,
   "id": "28977c3e",
   "metadata": {},
   "outputs": [
    {
     "data": {
      "text/plain": [
       "(2037, 16)"
      ]
     },
     "execution_count": 75,
     "metadata": {},
     "output_type": "execute_result"
    }
   ],
   "source": [
    "comlain_0_redused = complain_0.sample(Count_Outcome_1)\n",
    "comlain_0_redused.shape"
   ]
  },
  {
   "cell_type": "code",
   "execution_count": 76,
   "id": "221028a2",
   "metadata": {},
   "outputs": [
    {
     "data": {
      "text/plain": [
       "(4074, 16)"
      ]
     },
     "execution_count": 76,
     "metadata": {},
     "output_type": "execute_result"
    }
   ],
   "source": [
    "balanced_df = pd.concat([comlain_0_redused,complain_1],axis=0)\n",
    "balanced_df.shape"
   ]
  },
  {
   "cell_type": "code",
   "execution_count": 77,
   "id": "70a2db2b",
   "metadata": {},
   "outputs": [
    {
     "data": {
      "text/plain": [
       "Complain\n",
       "0    2037\n",
       "1    2037\n",
       "dtype: int64"
      ]
     },
     "execution_count": 77,
     "metadata": {},
     "output_type": "execute_result"
    }
   ],
   "source": [
    "balanced_df.groupby('Complain').size()"
   ]
  },
  {
   "cell_type": "code",
   "execution_count": null,
   "id": "549648f8",
   "metadata": {},
   "outputs": [],
   "source": []
  },
  {
   "cell_type": "code",
   "execution_count": 78,
   "id": "386fd2dc",
   "metadata": {},
   "outputs": [
    {
     "data": {
      "text/plain": [
       "Text(0.5, 1.0, 'Balanced dataset')"
      ]
     },
     "execution_count": 78,
     "metadata": {},
     "output_type": "execute_result"
    },
    {
     "data": {
      "image/png": "[encoded data removed]",
      "text/plain": [
       "<Figure size 500x500 with 1 Axes>"
      ]
     },
     "metadata": {},
     "output_type": "display_data"
    }
   ],
   "source": [
    "fig, ax = plt.subplots(figsize=(5,5))\n",
    "\n",
    "sns.countplot(x='Complain', data=balanced_df, ax=ax)\n",
    "ax.set_ylabel('Number of Observations')\n",
    "ax.tick_params(axis=\"y\", labelsize=8)\n",
    "ax.set_title('Balanced dataset')"
   ]
  },
  {
   "cell_type": "code",
   "execution_count": 79,
   "id": "8d1bb73a",
   "metadata": {},
   "outputs": [
    {
     "data": {
      "text/html": [
       "<div>\n",
       "<style scoped>\n",
       "    .dataframe tbody tr th:only-of-type {\n",
       "        vertical-align: middle;\n",
       "    }\n",
       "\n",
       "    .dataframe tbody tr th {\n",
       "        vertical-align: top;\n",
       "    }\n",
       "\n",
       "    .dataframe thead th {\n",
       "        text-align: right;\n",
       "    }\n",
       "</style>\n",
       "<table border=\"1\" class=\"dataframe\">\n",
       "  <thead>\n",
       "    <tr style=\"text-align: right;\">\n",
       "      <th></th>\n",
       "      <th>CustomerId</th>\n",
       "      <th>CreditScore</th>\n",
       "      <th>Location</th>\n",
       "      <th>Gender</th>\n",
       "      <th>Age</th>\n",
       "      <th>Tenure</th>\n",
       "      <th>Balance</th>\n",
       "      <th>NumOfProducts</th>\n",
       "      <th>HasCreditCard</th>\n",
       "      <th>IsActiveMember</th>\n",
       "      <th>EstimatedSalary</th>\n",
       "      <th>Exited</th>\n",
       "      <th>Complain</th>\n",
       "      <th>Satisfaction Score</th>\n",
       "      <th>Card Type</th>\n",
       "      <th>Point Earned</th>\n",
       "    </tr>\n",
       "  </thead>\n",
       "  <tbody>\n",
       "    <tr>\n",
       "      <th>2306</th>\n",
       "      <td>15602034</td>\n",
       "      <td>697</td>\n",
       "      <td>France</td>\n",
       "      <td>Female</td>\n",
       "      <td>34</td>\n",
       "      <td>2</td>\n",
       "      <td>126558.92</td>\n",
       "      <td>1</td>\n",
       "      <td>1</td>\n",
       "      <td>0</td>\n",
       "      <td>73334.43</td>\n",
       "      <td>0</td>\n",
       "      <td>0</td>\n",
       "      <td>5</td>\n",
       "      <td>PLATINUM</td>\n",
       "      <td>809</td>\n",
       "    </tr>\n",
       "    <tr>\n",
       "      <th>3425</th>\n",
       "      <td>15802207</td>\n",
       "      <td>769</td>\n",
       "      <td>Germany</td>\n",
       "      <td>Male</td>\n",
       "      <td>43</td>\n",
       "      <td>4</td>\n",
       "      <td>110182.54</td>\n",
       "      <td>2</td>\n",
       "      <td>1</td>\n",
       "      <td>1</td>\n",
       "      <td>87537.32</td>\n",
       "      <td>0</td>\n",
       "      <td>0</td>\n",
       "      <td>2</td>\n",
       "      <td>PLATINUM</td>\n",
       "      <td>505</td>\n",
       "    </tr>\n",
       "    <tr>\n",
       "      <th>174</th>\n",
       "      <td>15625524</td>\n",
       "      <td>512</td>\n",
       "      <td>France</td>\n",
       "      <td>Male</td>\n",
       "      <td>40</td>\n",
       "      <td>5</td>\n",
       "      <td>0.00</td>\n",
       "      <td>2</td>\n",
       "      <td>1</td>\n",
       "      <td>1</td>\n",
       "      <td>146457.83</td>\n",
       "      <td>0</td>\n",
       "      <td>0</td>\n",
       "      <td>3</td>\n",
       "      <td>DIAMOND</td>\n",
       "      <td>435</td>\n",
       "    </tr>\n",
       "    <tr>\n",
       "      <th>9132</th>\n",
       "      <td>15611315</td>\n",
       "      <td>708</td>\n",
       "      <td>Germany</td>\n",
       "      <td>Female</td>\n",
       "      <td>23</td>\n",
       "      <td>4</td>\n",
       "      <td>71433.08</td>\n",
       "      <td>1</td>\n",
       "      <td>1</td>\n",
       "      <td>0</td>\n",
       "      <td>103697.57</td>\n",
       "      <td>0</td>\n",
       "      <td>0</td>\n",
       "      <td>2</td>\n",
       "      <td>SILVER</td>\n",
       "      <td>455</td>\n",
       "    </tr>\n",
       "    <tr>\n",
       "      <th>9328</th>\n",
       "      <td>15807239</td>\n",
       "      <td>664</td>\n",
       "      <td>France</td>\n",
       "      <td>Female</td>\n",
       "      <td>34</td>\n",
       "      <td>7</td>\n",
       "      <td>93920.47</td>\n",
       "      <td>1</td>\n",
       "      <td>0</td>\n",
       "      <td>0</td>\n",
       "      <td>179913.98</td>\n",
       "      <td>0</td>\n",
       "      <td>0</td>\n",
       "      <td>1</td>\n",
       "      <td>PLATINUM</td>\n",
       "      <td>503</td>\n",
       "    </tr>\n",
       "  </tbody>\n",
       "</table>\n",
       "</div>"
      ],
      "text/plain": [
       "      CustomerId  CreditScore Location  Gender  Age  Tenure    Balance  \\\n",
       "2306    15602034          697   France  Female   34       2  126558.92   \n",
       "3425    15802207          769  Germany    Male   43       4  110182.54   \n",
       "174     15625524          512   France    Male   40       5       0.00   \n",
       "9132    15611315          708  Germany  Female   23       4   71433.08   \n",
       "9328    15807239          664   France  Female   34       7   93920.47   \n",
       "\n",
       "      NumOfProducts  HasCreditCard  IsActiveMember  EstimatedSalary  Exited  \\\n",
       "2306              1              1               0         73334.43       0   \n",
       "3425              2              1               1         87537.32       0   \n",
       "174               2              1               1        146457.83       0   \n",
       "9132              1              1               0        103697.57       0   \n",
       "9328              1              0               0        179913.98       0   \n",
       "\n",
       "      Complain  Satisfaction Score Card Type  Point Earned  \n",
       "2306         0                   5  PLATINUM           809  \n",
       "3425         0                   2  PLATINUM           505  \n",
       "174          0                   3   DIAMOND           435  \n",
       "9132         0                   2    SILVER           455  \n",
       "9328         0                   1  PLATINUM           503  "
      ]
     },
     "execution_count": 79,
     "metadata": {},
     "output_type": "execute_result"
    }
   ],
   "source": [
    "balanced_df.head()"
   ]
  },
  {
   "cell_type": "markdown",
   "id": "5a396073",
   "metadata": {},
   "source": [
    "### Create X and Y"
   ]
  },
  {
   "cell_type": "code",
   "execution_count": 80,
   "id": "02aa68e7",
   "metadata": {},
   "outputs": [],
   "source": [
    "X = balanced_df.drop('Complain', axis=1)\n",
    "Y = balanced_df['Complain']"
   ]
  },
  {
   "cell_type": "markdown",
   "id": "c4d71ba9",
   "metadata": {},
   "source": [
    "### Preprocess data"
   ]
  },
  {
   "cell_type": "code",
   "execution_count": 81,
   "id": "d5ed7f9b",
   "metadata": {},
   "outputs": [],
   "source": [
    "def preprocess(X):\n",
    "    numeric_attributes = X.select_dtypes(include=np.number)\n",
    "    categ_attributes = X.select_dtypes(exclude=np.number)\n",
    "\n",
    "\n",
    "    preprocessor = ColumnTransformer(\n",
    "    transformers=[\n",
    "            ('num', MinMaxScaler(), numeric_attributes.columns.to_list()),\n",
    "            ('cat', OneHotEncoder(), categ_attributes.columns.to_list())\n",
    "        ],\n",
    "        remainder='passthrough')\n",
    "    \n",
    "    X_preprocessed = preprocessor.fit_transform(X)\n",
    "    transformer_columns = preprocessor.named_transformers_['cat'].get_feature_names_out(input_features=categ_attributes.columns.tolist())\n",
    "    new_columns = numeric_attributes.columns.tolist() + transformer_columns.tolist()\n",
    "\n",
    "\n",
    "    X_preprocessed = pd.DataFrame(X_preprocessed, columns=new_columns)\n",
    "    \n",
    "    return X_preprocessed\n"
   ]
  },
  {
   "cell_type": "code",
   "execution_count": 82,
   "id": "83ce6981",
   "metadata": {},
   "outputs": [],
   "source": [
    "X_preprocessed = preprocess(X)"
   ]
  },
  {
   "cell_type": "code",
   "execution_count": 83,
   "id": "6e32ef1c",
   "metadata": {},
   "outputs": [
    {
     "data": {
      "text/html": [
       "<div>\n",
       "<style scoped>\n",
       "    .dataframe tbody tr th:only-of-type {\n",
       "        vertical-align: middle;\n",
       "    }\n",
       "\n",
       "    .dataframe tbody tr th {\n",
       "        vertical-align: top;\n",
       "    }\n",
       "\n",
       "    .dataframe thead th {\n",
       "        text-align: right;\n",
       "    }\n",
       "</style>\n",
       "<table border=\"1\" class=\"dataframe\">\n",
       "  <thead>\n",
       "    <tr style=\"text-align: right;\">\n",
       "      <th></th>\n",
       "      <th>CustomerId</th>\n",
       "      <th>CreditScore</th>\n",
       "      <th>Age</th>\n",
       "      <th>Tenure</th>\n",
       "      <th>Balance</th>\n",
       "      <th>NumOfProducts</th>\n",
       "      <th>HasCreditCard</th>\n",
       "      <th>IsActiveMember</th>\n",
       "      <th>EstimatedSalary</th>\n",
       "      <th>Exited</th>\n",
       "      <th>...</th>\n",
       "      <th>Point Earned</th>\n",
       "      <th>Location_France</th>\n",
       "      <th>Location_Germany</th>\n",
       "      <th>Location_Spain</th>\n",
       "      <th>Gender_Female</th>\n",
       "      <th>Gender_Male</th>\n",
       "      <th>Card Type_DIAMOND</th>\n",
       "      <th>Card Type_GOLD</th>\n",
       "      <th>Card Type_PLATINUM</th>\n",
       "      <th>Card Type_SILVER</th>\n",
       "    </tr>\n",
       "  </thead>\n",
       "  <tbody>\n",
       "    <tr>\n",
       "      <th>0</th>\n",
       "      <td>0.145338</td>\n",
       "      <td>0.694</td>\n",
       "      <td>0.242424</td>\n",
       "      <td>0.2</td>\n",
       "      <td>0.504424</td>\n",
       "      <td>0.000000</td>\n",
       "      <td>1.0</td>\n",
       "      <td>0.0</td>\n",
       "      <td>0.366689</td>\n",
       "      <td>0.0</td>\n",
       "      <td>...</td>\n",
       "      <td>0.759446</td>\n",
       "      <td>1.0</td>\n",
       "      <td>0.0</td>\n",
       "      <td>0.0</td>\n",
       "      <td>1.0</td>\n",
       "      <td>0.0</td>\n",
       "      <td>0.0</td>\n",
       "      <td>0.0</td>\n",
       "      <td>1.0</td>\n",
       "      <td>0.0</td>\n",
       "    </tr>\n",
       "    <tr>\n",
       "      <th>1</th>\n",
       "      <td>0.946066</td>\n",
       "      <td>0.838</td>\n",
       "      <td>0.378788</td>\n",
       "      <td>0.4</td>\n",
       "      <td>0.439153</td>\n",
       "      <td>0.333333</td>\n",
       "      <td>1.0</td>\n",
       "      <td>1.0</td>\n",
       "      <td>0.437718</td>\n",
       "      <td>0.0</td>\n",
       "      <td>...</td>\n",
       "      <td>0.376574</td>\n",
       "      <td>0.0</td>\n",
       "      <td>1.0</td>\n",
       "      <td>0.0</td>\n",
       "      <td>0.0</td>\n",
       "      <td>1.0</td>\n",
       "      <td>0.0</td>\n",
       "      <td>0.0</td>\n",
       "      <td>1.0</td>\n",
       "      <td>0.0</td>\n",
       "    </tr>\n",
       "    <tr>\n",
       "      <th>2</th>\n",
       "      <td>0.239303</td>\n",
       "      <td>0.324</td>\n",
       "      <td>0.333333</td>\n",
       "      <td>0.5</td>\n",
       "      <td>0.000000</td>\n",
       "      <td>0.333333</td>\n",
       "      <td>1.0</td>\n",
       "      <td>1.0</td>\n",
       "      <td>0.732381</td>\n",
       "      <td>0.0</td>\n",
       "      <td>...</td>\n",
       "      <td>0.288413</td>\n",
       "      <td>1.0</td>\n",
       "      <td>0.0</td>\n",
       "      <td>0.0</td>\n",
       "      <td>0.0</td>\n",
       "      <td>1.0</td>\n",
       "      <td>1.0</td>\n",
       "      <td>0.0</td>\n",
       "      <td>0.0</td>\n",
       "      <td>0.0</td>\n",
       "    </tr>\n",
       "    <tr>\n",
       "      <th>3</th>\n",
       "      <td>0.182464</td>\n",
       "      <td>0.716</td>\n",
       "      <td>0.075758</td>\n",
       "      <td>0.4</td>\n",
       "      <td>0.284710</td>\n",
       "      <td>0.000000</td>\n",
       "      <td>1.0</td>\n",
       "      <td>0.0</td>\n",
       "      <td>0.518536</td>\n",
       "      <td>0.0</td>\n",
       "      <td>...</td>\n",
       "      <td>0.313602</td>\n",
       "      <td>0.0</td>\n",
       "      <td>1.0</td>\n",
       "      <td>0.0</td>\n",
       "      <td>1.0</td>\n",
       "      <td>0.0</td>\n",
       "      <td>0.0</td>\n",
       "      <td>0.0</td>\n",
       "      <td>0.0</td>\n",
       "      <td>1.0</td>\n",
       "    </tr>\n",
       "    <tr>\n",
       "      <th>4</th>\n",
       "      <td>0.966195</td>\n",
       "      <td>0.628</td>\n",
       "      <td>0.242424</td>\n",
       "      <td>0.7</td>\n",
       "      <td>0.374337</td>\n",
       "      <td>0.000000</td>\n",
       "      <td>0.0</td>\n",
       "      <td>0.0</td>\n",
       "      <td>0.899696</td>\n",
       "      <td>0.0</td>\n",
       "      <td>...</td>\n",
       "      <td>0.374055</td>\n",
       "      <td>1.0</td>\n",
       "      <td>0.0</td>\n",
       "      <td>0.0</td>\n",
       "      <td>1.0</td>\n",
       "      <td>0.0</td>\n",
       "      <td>0.0</td>\n",
       "      <td>0.0</td>\n",
       "      <td>1.0</td>\n",
       "      <td>0.0</td>\n",
       "    </tr>\n",
       "  </tbody>\n",
       "</table>\n",
       "<p>5 rows × 21 columns</p>\n",
       "</div>"
      ],
      "text/plain": [
       "   CustomerId  CreditScore       Age  Tenure   Balance  NumOfProducts  \\\n",
       "0    0.145338        0.694  0.242424     0.2  0.504424       0.000000   \n",
       "1    0.946066        0.838  0.378788     0.4  0.439153       0.333333   \n",
       "2    0.239303        0.324  0.333333     0.5  0.000000       0.333333   \n",
       "3    0.182464        0.716  0.075758     0.4  0.284710       0.000000   \n",
       "4    0.966195        0.628  0.242424     0.7  0.374337       0.000000   \n",
       "\n",
       "   HasCreditCard  IsActiveMember  EstimatedSalary  Exited  ...  Point Earned  \\\n",
       "0            1.0             0.0         0.366689     0.0  ...      0.759446   \n",
       "1            1.0             1.0         0.437718     0.0  ...      0.376574   \n",
       "2            1.0             1.0         0.732381     0.0  ...      0.288413   \n",
       "3            1.0             0.0         0.518536     0.0  ...      0.313602   \n",
       "4            0.0             0.0         0.899696     0.0  ...      0.374055   \n",
       "\n",
       "   Location_France  Location_Germany  Location_Spain  Gender_Female  \\\n",
       "0              1.0               0.0             0.0            1.0   \n",
       "1              0.0               1.0             0.0            0.0   \n",
       "2              1.0               0.0             0.0            0.0   \n",
       "3              0.0               1.0             0.0            1.0   \n",
       "4              1.0               0.0             0.0            1.0   \n",
       "\n",
       "   Gender_Male  Card Type_DIAMOND  Card Type_GOLD  Card Type_PLATINUM  \\\n",
       "0          0.0                0.0             0.0                 1.0   \n",
       "1          1.0                0.0             0.0                 1.0   \n",
       "2          1.0                1.0             0.0                 0.0   \n",
       "3          0.0                0.0             0.0                 0.0   \n",
       "4          0.0                0.0             0.0                 1.0   \n",
       "\n",
       "   Card Type_SILVER  \n",
       "0               0.0  \n",
       "1               0.0  \n",
       "2               0.0  \n",
       "3               1.0  \n",
       "4               0.0  \n",
       "\n",
       "[5 rows x 21 columns]"
      ]
     },
     "execution_count": 83,
     "metadata": {},
     "output_type": "execute_result"
    }
   ],
   "source": [
    "\n",
    "\n",
    "\n",
    "X_preprocessed.head()"
   ]
  },
  {
   "cell_type": "markdown",
   "id": "becfac7c",
   "metadata": {},
   "source": [
    "### Plot the feature importances"
   ]
  },
  {
   "cell_type": "code",
   "execution_count": 84,
   "id": "9d672960",
   "metadata": {},
   "outputs": [
    {
     "data": {
      "text/html": [
       "<style>#sk-container-id-1 {color: black;background-color: white;}#sk-container-id-1 pre{padding: 0;}#sk-container-id-1 div.sk-toggleable {background-color: white;}#sk-container-id-1 label.sk-toggleable__label {cursor: pointer;display: block;width: 100%;margin-bottom: 0;padding: 0.3em;box-sizing: border-box;text-align: center;}#sk-container-id-1 label.sk-toggleable__label-arrow:before {content: \"▸\";float: left;margin-right: 0.25em;color: #696969;}#sk-container-id-1 label.sk-toggleable__label-arrow:hover:before {color: black;}#sk-container-id-1 div.sk-estimator:hover label.sk-toggleable__label-arrow:before {color: black;}#sk-container-id-1 div.sk-toggleable__content {max-height: 0;max-width: 0;overflow: hidden;text-align: left;background-color: #f0f8ff;}#sk-container-id-1 div.sk-toggleable__content pre {margin: 0.2em;color: black;border-radius: 0.25em;background-color: #f0f8ff;}#sk-container-id-1 input.sk-toggleable__control:checked~div.sk-toggleable__content {max-height: 200px;max-width: 100%;overflow: auto;}#sk-container-id-1 input.sk-toggleable__control:checked~label.sk-toggleable__label-arrow:before {content: \"▾\";}#sk-container-id-1 div.sk-estimator input.sk-toggleable__control:checked~label.sk-toggleable__label {background-color: #d4ebff;}#sk-container-id-1 div.sk-label input.sk-toggleable__control:checked~label.sk-toggleable__label {background-color: #d4ebff;}#sk-container-id-1 input.sk-hidden--visually {border: 0;clip: rect(1px 1px 1px 1px);clip: rect(1px, 1px, 1px, 1px);height: 1px;margin: -1px;overflow: hidden;padding: 0;position: absolute;width: 1px;}#sk-container-id-1 div.sk-estimator {font-family: monospace;background-color: #f0f8ff;border: 1px dotted black;border-radius: 0.25em;box-sizing: border-box;margin-bottom: 0.5em;}#sk-container-id-1 div.sk-estimator:hover {background-color: #d4ebff;}#sk-container-id-1 div.sk-parallel-item::after {content: \"\";width: 100%;border-bottom: 1px solid gray;flex-grow: 1;}#sk-container-id-1 div.sk-label:hover label.sk-toggleable__label {background-color: #d4ebff;}#sk-container-id-1 div.sk-serial::before {content: \"\";position: absolute;border-left: 1px solid gray;box-sizing: border-box;top: 0;bottom: 0;left: 50%;z-index: 0;}#sk-container-id-1 div.sk-serial {display: flex;flex-direction: column;align-items: center;background-color: white;padding-right: 0.2em;padding-left: 0.2em;position: relative;}#sk-container-id-1 div.sk-item {position: relative;z-index: 1;}#sk-container-id-1 div.sk-parallel {display: flex;align-items: stretch;justify-content: center;background-color: white;position: relative;}#sk-container-id-1 div.sk-item::before, #sk-container-id-1 div.sk-parallel-item::before {content: \"\";position: absolute;border-left: 1px solid gray;box-sizing: border-box;top: 0;bottom: 0;left: 50%;z-index: -1;}#sk-container-id-1 div.sk-parallel-item {display: flex;flex-direction: column;z-index: 1;position: relative;background-color: white;}#sk-container-id-1 div.sk-parallel-item:first-child::after {align-self: flex-end;width: 50%;}#sk-container-id-1 div.sk-parallel-item:last-child::after {align-self: flex-start;width: 50%;}#sk-container-id-1 div.sk-parallel-item:only-child::after {width: 0;}#sk-container-id-1 div.sk-dashed-wrapped {border: 1px dashed gray;margin: 0 0.4em 0.5em 0.4em;box-sizing: border-box;padding-bottom: 0.4em;background-color: white;}#sk-container-id-1 div.sk-label label {font-family: monospace;font-weight: bold;display: inline-block;line-height: 1.2em;}#sk-container-id-1 div.sk-label-container {text-align: center;}#sk-container-id-1 div.sk-container {/* jupyter's `normalize.less` sets `[hidden] { display: none; }` but bootstrap.min.css set `[hidden] { display: none !important; }` so we also need the `!important` here to be able to override the default hidden behavior on the sphinx rendered scikit-learn.org. See: https://github.com/scikit-learn/scikit-learn/issues/21755 */display: inline-block !important;position: relative;}#sk-container-id-1 div.sk-text-repr-fallback {display: none;}</style><div id=\"sk-container-id-1\" class=\"sk-top-container\"><div class=\"sk-text-repr-fallback\"><pre>ExtraTreesClassifier(n_estimators=50)</pre><b>In a Jupyter environment, please rerun this cell to show the HTML representation or trust the notebook. <br />On GitHub, the HTML representation is unable to render, please try loading this page with nbviewer.org.</b></div><div class=\"sk-container\" hidden><div class=\"sk-item\"><div class=\"sk-estimator sk-toggleable\"><input class=\"sk-toggleable__control sk-hidden--visually\" id=\"sk-estimator-id-1\" type=\"checkbox\" checked><label for=\"sk-estimator-id-1\" class=\"sk-toggleable__label sk-toggleable__label-arrow\">ExtraTreesClassifier</label><div class=\"sk-toggleable__content\"><pre>ExtraTreesClassifier(n_estimators=50)</pre></div></div></div></div></div>"
      ],
      "text/plain": [
       "ExtraTreesClassifier(n_estimators=50)"
      ]
     },
     "execution_count": 84,
     "metadata": {},
     "output_type": "execute_result"
    }
   ],
   "source": [
    "selector = ExtraTreesClassifier(n_estimators=50)\n",
    "selector.fit(X_preprocessed, Y)"
   ]
  },
  {
   "cell_type": "code",
   "execution_count": 85,
   "id": "64014ad6",
   "metadata": {},
   "outputs": [
    {
     "data": {
      "text/plain": [
       "array([0.0058132 , 0.00503441, 0.03814421, 0.00518929, 0.00990853,\n",
       "       0.0372049 , 0.00242001, 0.01448636, 0.00540453, 0.8308696 ,\n",
       "       0.00449439, 0.00518627, 0.00473268, 0.01755696, 0.00184524,\n",
       "       0.00220054, 0.00344581, 0.00152071, 0.00145423, 0.00156012,\n",
       "       0.00152799])"
      ]
     },
     "execution_count": 85,
     "metadata": {},
     "output_type": "execute_result"
    }
   ],
   "source": [
    "importances = selector.feature_importances_\n",
    "importances"
   ]
  },
  {
   "cell_type": "code",
   "execution_count": 86,
   "id": "4f104198",
   "metadata": {},
   "outputs": [],
   "source": [
    "features_importances = sorted(zip(importances, X_preprocessed.columns.to_list()), reverse=True)\n",
    "importances, feature_names = zip(*features_importances)"
   ]
  },
  {
   "cell_type": "code",
   "execution_count": 87,
   "id": "78e1d9f8",
   "metadata": {},
   "outputs": [
    {
     "data": {
      "image/png": "[encoded data removed]",
      "text/plain": [
       "<Figure size 500x500 with 1 Axes>"
      ]
     },
     "metadata": {},
     "output_type": "display_data"
    }
   ],
   "source": [
    "fig, ax = plt.subplots(figsize=(5, 5))\n",
    "bars = ax.barh(feature_names, importances, color=color[1])\n",
    "ax.set_xlabel('Importance')\n",
    "ax.set_title('Feature Importances')\n",
    "\n",
    "ax.invert_yaxis()\n",
    "\n",
    "\n",
    "ax.spines['right'].set_visible(False) \n",
    "ax.spines['top'].set_visible(False)  \n",
    "ax.spines['bottom'].set_visible(False)\n",
    "\n",
    "ax.set_xticklabels([])\n",
    "ax.set_xticks([])\n",
    "\n",
    "\n",
    "for bar, imp in zip(bars, importances):\n",
    "    plt.gca().annotate(f'{imp:.4f}',\n",
    "                       xy=(bar.get_width() * 1.01, \n",
    "                           bar.get_y() + bar.get_height() / 2),\n",
    "                       ha='left',\n",
    "                       va='center')\n",
    "    \n",
    "plt.savefig('Pics/feature_importance.png', bbox_inches='tight')\n",
    "\n",
    "plt.show()"
   ]
  },
  {
   "cell_type": "code",
   "execution_count": 88,
   "id": "77868421",
   "metadata": {},
   "outputs": [
    {
     "data": {
      "text/plain": [
       "[(0.8308695966794157, 'Exited'),\n",
       " (0.038144214242123727, 'Age'),\n",
       " (0.03720490400633527, 'NumOfProducts'),\n",
       " (0.017556957704687896, 'Location_Germany'),\n",
       " (0.01448635694685493, 'IsActiveMember'),\n",
       " (0.009908529396462445, 'Balance'),\n",
       " (0.005813204086691387, 'CustomerId'),\n",
       " (0.005404530729954713, 'EstimatedSalary'),\n",
       " (0.005189285862629822, 'Tenure'),\n",
       " (0.0051862735347286215, 'Point Earned'),\n",
       " (0.005034410882480978, 'CreditScore'),\n",
       " (0.004732676690964764, 'Location_France'),\n",
       " (0.004494394498220809, 'Satisfaction Score'),\n",
       " (0.003445810247837315, 'Gender_Male'),\n",
       " (0.0024200111349753873, 'HasCreditCard'),\n",
       " (0.0022005444920279752, 'Gender_Female'),\n",
       " (0.0018452424529286705, 'Location_Spain'),\n",
       " (0.0015601196510164018, 'Card Type_PLATINUM'),\n",
       " (0.0015279943176448856, 'Card Type_SILVER'),\n",
       " (0.0015207084452358358, 'Card Type_DIAMOND'),\n",
       " (0.0014542339967823362, 'Card Type_GOLD')]"
      ]
     },
     "execution_count": 88,
     "metadata": {},
     "output_type": "execute_result"
    }
   ],
   "source": [
    "features_importances"
   ]
  },
  {
   "cell_type": "code",
   "execution_count": 89,
   "id": "e5fa164a",
   "metadata": {},
   "outputs": [
    {
     "data": {
      "text/html": [
       "<div>\n",
       "<style scoped>\n",
       "    .dataframe tbody tr th:only-of-type {\n",
       "        vertical-align: middle;\n",
       "    }\n",
       "\n",
       "    .dataframe tbody tr th {\n",
       "        vertical-align: top;\n",
       "    }\n",
       "\n",
       "    .dataframe thead th {\n",
       "        text-align: right;\n",
       "    }\n",
       "</style>\n",
       "<table border=\"1\" class=\"dataframe\">\n",
       "  <thead>\n",
       "    <tr style=\"text-align: right;\">\n",
       "      <th></th>\n",
       "      <th>CustomerId</th>\n",
       "      <th>CreditScore</th>\n",
       "      <th>Age</th>\n",
       "      <th>Tenure</th>\n",
       "      <th>Balance</th>\n",
       "      <th>NumOfProducts</th>\n",
       "      <th>HasCreditCard</th>\n",
       "      <th>IsActiveMember</th>\n",
       "      <th>EstimatedSalary</th>\n",
       "      <th>Exited</th>\n",
       "      <th>...</th>\n",
       "      <th>Point Earned</th>\n",
       "      <th>Location_France</th>\n",
       "      <th>Location_Germany</th>\n",
       "      <th>Location_Spain</th>\n",
       "      <th>Gender_Female</th>\n",
       "      <th>Gender_Male</th>\n",
       "      <th>Card Type_DIAMOND</th>\n",
       "      <th>Card Type_GOLD</th>\n",
       "      <th>Card Type_PLATINUM</th>\n",
       "      <th>Card Type_SILVER</th>\n",
       "    </tr>\n",
       "  </thead>\n",
       "  <tbody>\n",
       "    <tr>\n",
       "      <th>0</th>\n",
       "      <td>0.145338</td>\n",
       "      <td>0.694</td>\n",
       "      <td>0.242424</td>\n",
       "      <td>0.2</td>\n",
       "      <td>0.504424</td>\n",
       "      <td>0.000000</td>\n",
       "      <td>1.0</td>\n",
       "      <td>0.0</td>\n",
       "      <td>0.366689</td>\n",
       "      <td>0.0</td>\n",
       "      <td>...</td>\n",
       "      <td>0.759446</td>\n",
       "      <td>1.0</td>\n",
       "      <td>0.0</td>\n",
       "      <td>0.0</td>\n",
       "      <td>1.0</td>\n",
       "      <td>0.0</td>\n",
       "      <td>0.0</td>\n",
       "      <td>0.0</td>\n",
       "      <td>1.0</td>\n",
       "      <td>0.0</td>\n",
       "    </tr>\n",
       "    <tr>\n",
       "      <th>1</th>\n",
       "      <td>0.946066</td>\n",
       "      <td>0.838</td>\n",
       "      <td>0.378788</td>\n",
       "      <td>0.4</td>\n",
       "      <td>0.439153</td>\n",
       "      <td>0.333333</td>\n",
       "      <td>1.0</td>\n",
       "      <td>1.0</td>\n",
       "      <td>0.437718</td>\n",
       "      <td>0.0</td>\n",
       "      <td>...</td>\n",
       "      <td>0.376574</td>\n",
       "      <td>0.0</td>\n",
       "      <td>1.0</td>\n",
       "      <td>0.0</td>\n",
       "      <td>0.0</td>\n",
       "      <td>1.0</td>\n",
       "      <td>0.0</td>\n",
       "      <td>0.0</td>\n",
       "      <td>1.0</td>\n",
       "      <td>0.0</td>\n",
       "    </tr>\n",
       "    <tr>\n",
       "      <th>2</th>\n",
       "      <td>0.239303</td>\n",
       "      <td>0.324</td>\n",
       "      <td>0.333333</td>\n",
       "      <td>0.5</td>\n",
       "      <td>0.000000</td>\n",
       "      <td>0.333333</td>\n",
       "      <td>1.0</td>\n",
       "      <td>1.0</td>\n",
       "      <td>0.732381</td>\n",
       "      <td>0.0</td>\n",
       "      <td>...</td>\n",
       "      <td>0.288413</td>\n",
       "      <td>1.0</td>\n",
       "      <td>0.0</td>\n",
       "      <td>0.0</td>\n",
       "      <td>0.0</td>\n",
       "      <td>1.0</td>\n",
       "      <td>1.0</td>\n",
       "      <td>0.0</td>\n",
       "      <td>0.0</td>\n",
       "      <td>0.0</td>\n",
       "    </tr>\n",
       "    <tr>\n",
       "      <th>3</th>\n",
       "      <td>0.182464</td>\n",
       "      <td>0.716</td>\n",
       "      <td>0.075758</td>\n",
       "      <td>0.4</td>\n",
       "      <td>0.284710</td>\n",
       "      <td>0.000000</td>\n",
       "      <td>1.0</td>\n",
       "      <td>0.0</td>\n",
       "      <td>0.518536</td>\n",
       "      <td>0.0</td>\n",
       "      <td>...</td>\n",
       "      <td>0.313602</td>\n",
       "      <td>0.0</td>\n",
       "      <td>1.0</td>\n",
       "      <td>0.0</td>\n",
       "      <td>1.0</td>\n",
       "      <td>0.0</td>\n",
       "      <td>0.0</td>\n",
       "      <td>0.0</td>\n",
       "      <td>0.0</td>\n",
       "      <td>1.0</td>\n",
       "    </tr>\n",
       "    <tr>\n",
       "      <th>4</th>\n",
       "      <td>0.966195</td>\n",
       "      <td>0.628</td>\n",
       "      <td>0.242424</td>\n",
       "      <td>0.7</td>\n",
       "      <td>0.374337</td>\n",
       "      <td>0.000000</td>\n",
       "      <td>0.0</td>\n",
       "      <td>0.0</td>\n",
       "      <td>0.899696</td>\n",
       "      <td>0.0</td>\n",
       "      <td>...</td>\n",
       "      <td>0.374055</td>\n",
       "      <td>1.0</td>\n",
       "      <td>0.0</td>\n",
       "      <td>0.0</td>\n",
       "      <td>1.0</td>\n",
       "      <td>0.0</td>\n",
       "      <td>0.0</td>\n",
       "      <td>0.0</td>\n",
       "      <td>1.0</td>\n",
       "      <td>0.0</td>\n",
       "    </tr>\n",
       "    <tr>\n",
       "      <th>...</th>\n",
       "      <td>...</td>\n",
       "      <td>...</td>\n",
       "      <td>...</td>\n",
       "      <td>...</td>\n",
       "      <td>...</td>\n",
       "      <td>...</td>\n",
       "      <td>...</td>\n",
       "      <td>...</td>\n",
       "      <td>...</td>\n",
       "      <td>...</td>\n",
       "      <td>...</td>\n",
       "      <td>...</td>\n",
       "      <td>...</td>\n",
       "      <td>...</td>\n",
       "      <td>...</td>\n",
       "      <td>...</td>\n",
       "      <td>...</td>\n",
       "      <td>...</td>\n",
       "      <td>...</td>\n",
       "      <td>...</td>\n",
       "      <td>...</td>\n",
       "    </tr>\n",
       "    <tr>\n",
       "      <th>4069</th>\n",
       "      <td>0.521919</td>\n",
       "      <td>0.504</td>\n",
       "      <td>0.257576</td>\n",
       "      <td>0.7</td>\n",
       "      <td>0.361112</td>\n",
       "      <td>0.333333</td>\n",
       "      <td>1.0</td>\n",
       "      <td>1.0</td>\n",
       "      <td>0.258472</td>\n",
       "      <td>0.0</td>\n",
       "      <td>...</td>\n",
       "      <td>0.702771</td>\n",
       "      <td>0.0</td>\n",
       "      <td>1.0</td>\n",
       "      <td>0.0</td>\n",
       "      <td>0.0</td>\n",
       "      <td>1.0</td>\n",
       "      <td>0.0</td>\n",
       "      <td>1.0</td>\n",
       "      <td>0.0</td>\n",
       "      <td>0.0</td>\n",
       "    </tr>\n",
       "    <tr>\n",
       "      <th>4070</th>\n",
       "      <td>0.084856</td>\n",
       "      <td>0.618</td>\n",
       "      <td>0.272727</td>\n",
       "      <td>0.6</td>\n",
       "      <td>0.493593</td>\n",
       "      <td>0.333333</td>\n",
       "      <td>1.0</td>\n",
       "      <td>0.0</td>\n",
       "      <td>0.484206</td>\n",
       "      <td>0.0</td>\n",
       "      <td>...</td>\n",
       "      <td>0.842569</td>\n",
       "      <td>1.0</td>\n",
       "      <td>0.0</td>\n",
       "      <td>0.0</td>\n",
       "      <td>0.0</td>\n",
       "      <td>1.0</td>\n",
       "      <td>0.0</td>\n",
       "      <td>0.0</td>\n",
       "      <td>1.0</td>\n",
       "      <td>0.0</td>\n",
       "    </tr>\n",
       "    <tr>\n",
       "      <th>4071</th>\n",
       "      <td>0.817068</td>\n",
       "      <td>0.494</td>\n",
       "      <td>0.530303</td>\n",
       "      <td>0.4</td>\n",
       "      <td>0.352259</td>\n",
       "      <td>0.000000</td>\n",
       "      <td>1.0</td>\n",
       "      <td>0.0</td>\n",
       "      <td>0.346936</td>\n",
       "      <td>1.0</td>\n",
       "      <td>...</td>\n",
       "      <td>0.205290</td>\n",
       "      <td>1.0</td>\n",
       "      <td>0.0</td>\n",
       "      <td>0.0</td>\n",
       "      <td>1.0</td>\n",
       "      <td>0.0</td>\n",
       "      <td>0.0</td>\n",
       "      <td>1.0</td>\n",
       "      <td>0.0</td>\n",
       "      <td>0.0</td>\n",
       "    </tr>\n",
       "    <tr>\n",
       "      <th>4072</th>\n",
       "      <td>0.075327</td>\n",
       "      <td>0.718</td>\n",
       "      <td>0.272727</td>\n",
       "      <td>0.7</td>\n",
       "      <td>0.000000</td>\n",
       "      <td>0.000000</td>\n",
       "      <td>0.0</td>\n",
       "      <td>1.0</td>\n",
       "      <td>0.210413</td>\n",
       "      <td>1.0</td>\n",
       "      <td>...</td>\n",
       "      <td>0.450882</td>\n",
       "      <td>1.0</td>\n",
       "      <td>0.0</td>\n",
       "      <td>0.0</td>\n",
       "      <td>1.0</td>\n",
       "      <td>0.0</td>\n",
       "      <td>0.0</td>\n",
       "      <td>0.0</td>\n",
       "      <td>0.0</td>\n",
       "      <td>1.0</td>\n",
       "    </tr>\n",
       "    <tr>\n",
       "      <th>4073</th>\n",
       "      <td>0.466637</td>\n",
       "      <td>0.844</td>\n",
       "      <td>0.363636</td>\n",
       "      <td>0.3</td>\n",
       "      <td>0.299226</td>\n",
       "      <td>0.333333</td>\n",
       "      <td>1.0</td>\n",
       "      <td>0.0</td>\n",
       "      <td>0.464480</td>\n",
       "      <td>1.0</td>\n",
       "      <td>...</td>\n",
       "      <td>0.167506</td>\n",
       "      <td>0.0</td>\n",
       "      <td>1.0</td>\n",
       "      <td>0.0</td>\n",
       "      <td>0.0</td>\n",
       "      <td>1.0</td>\n",
       "      <td>0.0</td>\n",
       "      <td>1.0</td>\n",
       "      <td>0.0</td>\n",
       "      <td>0.0</td>\n",
       "    </tr>\n",
       "  </tbody>\n",
       "</table>\n",
       "<p>4074 rows × 21 columns</p>\n",
       "</div>"
      ],
      "text/plain": [
       "      CustomerId  CreditScore       Age  Tenure   Balance  NumOfProducts  \\\n",
       "0       0.145338        0.694  0.242424     0.2  0.504424       0.000000   \n",
       "1       0.946066        0.838  0.378788     0.4  0.439153       0.333333   \n",
       "2       0.239303        0.324  0.333333     0.5  0.000000       0.333333   \n",
       "3       0.182464        0.716  0.075758     0.4  0.284710       0.000000   \n",
       "4       0.966195        0.628  0.242424     0.7  0.374337       0.000000   \n",
       "...          ...          ...       ...     ...       ...            ...   \n",
       "4069    0.521919        0.504  0.257576     0.7  0.361112       0.333333   \n",
       "4070    0.084856        0.618  0.272727     0.6  0.493593       0.333333   \n",
       "4071    0.817068        0.494  0.530303     0.4  0.352259       0.000000   \n",
       "4072    0.075327        0.718  0.272727     0.7  0.000000       0.000000   \n",
       "4073    0.466637        0.844  0.363636     0.3  0.299226       0.333333   \n",
       "\n",
       "      HasCreditCard  IsActiveMember  EstimatedSalary  Exited  ...  \\\n",
       "0               1.0             0.0         0.366689     0.0  ...   \n",
       "1               1.0             1.0         0.437718     0.0  ...   \n",
       "2               1.0             1.0         0.732381     0.0  ...   \n",
       "3               1.0             0.0         0.518536     0.0  ...   \n",
       "4               0.0             0.0         0.899696     0.0  ...   \n",
       "...             ...             ...              ...     ...  ...   \n",
       "4069            1.0             1.0         0.258472     0.0  ...   \n",
       "4070            1.0             0.0         0.484206     0.0  ...   \n",
       "4071            1.0             0.0         0.346936     1.0  ...   \n",
       "4072            0.0             1.0         0.210413     1.0  ...   \n",
       "4073            1.0             0.0         0.464480     1.0  ...   \n",
       "\n",
       "      Point Earned  Location_France  Location_Germany  Location_Spain  \\\n",
       "0         0.759446              1.0               0.0             0.0   \n",
       "1         0.376574              0.0               1.0             0.0   \n",
       "2         0.288413              1.0               0.0             0.0   \n",
       "3         0.313602              0.0               1.0             0.0   \n",
       "4         0.374055              1.0               0.0             0.0   \n",
       "...            ...              ...               ...             ...   \n",
       "4069      0.702771              0.0               1.0             0.0   \n",
       "4070      0.842569              1.0               0.0             0.0   \n",
       "4071      0.205290              1.0               0.0             0.0   \n",
       "4072      0.450882              1.0               0.0             0.0   \n",
       "4073      0.167506              0.0               1.0             0.0   \n",
       "\n",
       "      Gender_Female  Gender_Male  Card Type_DIAMOND  Card Type_GOLD  \\\n",
       "0               1.0          0.0                0.0             0.0   \n",
       "1               0.0          1.0                0.0             0.0   \n",
       "2               0.0          1.0                1.0             0.0   \n",
       "3               1.0          0.0                0.0             0.0   \n",
       "4               1.0          0.0                0.0             0.0   \n",
       "...             ...          ...                ...             ...   \n",
       "4069            0.0          1.0                0.0             1.0   \n",
       "4070            0.0          1.0                0.0             0.0   \n",
       "4071            1.0          0.0                0.0             1.0   \n",
       "4072            1.0          0.0                0.0             0.0   \n",
       "4073            0.0          1.0                0.0             1.0   \n",
       "\n",
       "      Card Type_PLATINUM  Card Type_SILVER  \n",
       "0                    1.0               0.0  \n",
       "1                    1.0               0.0  \n",
       "2                    0.0               0.0  \n",
       "3                    0.0               1.0  \n",
       "4                    1.0               0.0  \n",
       "...                  ...               ...  \n",
       "4069                 0.0               0.0  \n",
       "4070                 1.0               0.0  \n",
       "4071                 0.0               0.0  \n",
       "4072                 0.0               1.0  \n",
       "4073                 0.0               0.0  \n",
       "\n",
       "[4074 rows x 21 columns]"
      ]
     },
     "execution_count": 89,
     "metadata": {},
     "output_type": "execute_result"
    }
   ],
   "source": [
    "X_preprocessed"
   ]
  },
  {
   "cell_type": "code",
   "execution_count": 90,
   "id": "cf16eb2e",
   "metadata": {},
   "outputs": [],
   "source": [
    "x_train, x_test, y_train, y_test = train_test_split(X_preprocessed, Y, test_size=0.20, random_state=1)"
   ]
  },
  {
   "cell_type": "code",
   "execution_count": 91,
   "id": "423b7066",
   "metadata": {},
   "outputs": [
    {
     "data": {
      "text/html": [
       "<div>\n",
       "<style scoped>\n",
       "    .dataframe tbody tr th:only-of-type {\n",
       "        vertical-align: middle;\n",
       "    }\n",
       "\n",
       "    .dataframe tbody tr th {\n",
       "        vertical-align: top;\n",
       "    }\n",
       "\n",
       "    .dataframe thead th {\n",
       "        text-align: right;\n",
       "    }\n",
       "</style>\n",
       "<table border=\"1\" class=\"dataframe\">\n",
       "  <thead>\n",
       "    <tr style=\"text-align: right;\">\n",
       "      <th></th>\n",
       "      <th>CustomerId</th>\n",
       "      <th>CreditScore</th>\n",
       "      <th>Age</th>\n",
       "      <th>Tenure</th>\n",
       "      <th>Balance</th>\n",
       "      <th>NumOfProducts</th>\n",
       "      <th>HasCreditCard</th>\n",
       "      <th>IsActiveMember</th>\n",
       "      <th>EstimatedSalary</th>\n",
       "      <th>Exited</th>\n",
       "      <th>...</th>\n",
       "      <th>Point Earned</th>\n",
       "      <th>Location_France</th>\n",
       "      <th>Location_Germany</th>\n",
       "      <th>Location_Spain</th>\n",
       "      <th>Gender_Female</th>\n",
       "      <th>Gender_Male</th>\n",
       "      <th>Card Type_DIAMOND</th>\n",
       "      <th>Card Type_GOLD</th>\n",
       "      <th>Card Type_PLATINUM</th>\n",
       "      <th>Card Type_SILVER</th>\n",
       "    </tr>\n",
       "  </thead>\n",
       "  <tbody>\n",
       "    <tr>\n",
       "      <th>3985</th>\n",
       "      <td>0.534880</td>\n",
       "      <td>0.536</td>\n",
       "      <td>0.424242</td>\n",
       "      <td>0.6</td>\n",
       "      <td>0.598704</td>\n",
       "      <td>0.000000</td>\n",
       "      <td>1.0</td>\n",
       "      <td>0.0</td>\n",
       "      <td>0.603408</td>\n",
       "      <td>1.0</td>\n",
       "      <td>...</td>\n",
       "      <td>0.943325</td>\n",
       "      <td>1.0</td>\n",
       "      <td>0.0</td>\n",
       "      <td>0.0</td>\n",
       "      <td>1.0</td>\n",
       "      <td>0.0</td>\n",
       "      <td>0.0</td>\n",
       "      <td>0.0</td>\n",
       "      <td>1.0</td>\n",
       "      <td>0.0</td>\n",
       "    </tr>\n",
       "    <tr>\n",
       "      <th>829</th>\n",
       "      <td>0.462312</td>\n",
       "      <td>0.752</td>\n",
       "      <td>0.575758</td>\n",
       "      <td>0.2</td>\n",
       "      <td>0.420385</td>\n",
       "      <td>0.000000</td>\n",
       "      <td>1.0</td>\n",
       "      <td>1.0</td>\n",
       "      <td>0.230213</td>\n",
       "      <td>0.0</td>\n",
       "      <td>...</td>\n",
       "      <td>0.681360</td>\n",
       "      <td>0.0</td>\n",
       "      <td>0.0</td>\n",
       "      <td>1.0</td>\n",
       "      <td>1.0</td>\n",
       "      <td>0.0</td>\n",
       "      <td>0.0</td>\n",
       "      <td>0.0</td>\n",
       "      <td>1.0</td>\n",
       "      <td>0.0</td>\n",
       "    </tr>\n",
       "    <tr>\n",
       "      <th>546</th>\n",
       "      <td>0.944034</td>\n",
       "      <td>0.172</td>\n",
       "      <td>0.378788</td>\n",
       "      <td>0.5</td>\n",
       "      <td>0.000000</td>\n",
       "      <td>0.333333</td>\n",
       "      <td>1.0</td>\n",
       "      <td>1.0</td>\n",
       "      <td>0.178416</td>\n",
       "      <td>0.0</td>\n",
       "      <td>...</td>\n",
       "      <td>0.442065</td>\n",
       "      <td>0.0</td>\n",
       "      <td>0.0</td>\n",
       "      <td>1.0</td>\n",
       "      <td>0.0</td>\n",
       "      <td>1.0</td>\n",
       "      <td>1.0</td>\n",
       "      <td>0.0</td>\n",
       "      <td>0.0</td>\n",
       "      <td>0.0</td>\n",
       "    </tr>\n",
       "    <tr>\n",
       "      <th>1401</th>\n",
       "      <td>0.684094</td>\n",
       "      <td>0.504</td>\n",
       "      <td>0.196970</td>\n",
       "      <td>0.7</td>\n",
       "      <td>0.618864</td>\n",
       "      <td>0.000000</td>\n",
       "      <td>1.0</td>\n",
       "      <td>1.0</td>\n",
       "      <td>0.897357</td>\n",
       "      <td>0.0</td>\n",
       "      <td>...</td>\n",
       "      <td>0.793451</td>\n",
       "      <td>1.0</td>\n",
       "      <td>0.0</td>\n",
       "      <td>0.0</td>\n",
       "      <td>0.0</td>\n",
       "      <td>1.0</td>\n",
       "      <td>0.0</td>\n",
       "      <td>1.0</td>\n",
       "      <td>0.0</td>\n",
       "      <td>0.0</td>\n",
       "    </tr>\n",
       "    <tr>\n",
       "      <th>2779</th>\n",
       "      <td>0.379233</td>\n",
       "      <td>0.770</td>\n",
       "      <td>0.424242</td>\n",
       "      <td>0.2</td>\n",
       "      <td>0.423857</td>\n",
       "      <td>0.000000</td>\n",
       "      <td>1.0</td>\n",
       "      <td>0.0</td>\n",
       "      <td>0.571916</td>\n",
       "      <td>1.0</td>\n",
       "      <td>...</td>\n",
       "      <td>0.102015</td>\n",
       "      <td>0.0</td>\n",
       "      <td>1.0</td>\n",
       "      <td>0.0</td>\n",
       "      <td>0.0</td>\n",
       "      <td>1.0</td>\n",
       "      <td>1.0</td>\n",
       "      <td>0.0</td>\n",
       "      <td>0.0</td>\n",
       "      <td>0.0</td>\n",
       "    </tr>\n",
       "    <tr>\n",
       "      <th>...</th>\n",
       "      <td>...</td>\n",
       "      <td>...</td>\n",
       "      <td>...</td>\n",
       "      <td>...</td>\n",
       "      <td>...</td>\n",
       "      <td>...</td>\n",
       "      <td>...</td>\n",
       "      <td>...</td>\n",
       "      <td>...</td>\n",
       "      <td>...</td>\n",
       "      <td>...</td>\n",
       "      <td>...</td>\n",
       "      <td>...</td>\n",
       "      <td>...</td>\n",
       "      <td>...</td>\n",
       "      <td>...</td>\n",
       "      <td>...</td>\n",
       "      <td>...</td>\n",
       "      <td>...</td>\n",
       "      <td>...</td>\n",
       "      <td>...</td>\n",
       "    </tr>\n",
       "    <tr>\n",
       "      <th>3839</th>\n",
       "      <td>0.018353</td>\n",
       "      <td>0.694</td>\n",
       "      <td>0.378788</td>\n",
       "      <td>0.8</td>\n",
       "      <td>0.412156</td>\n",
       "      <td>0.000000</td>\n",
       "      <td>1.0</td>\n",
       "      <td>0.0</td>\n",
       "      <td>0.334477</td>\n",
       "      <td>1.0</td>\n",
       "      <td>...</td>\n",
       "      <td>0.487406</td>\n",
       "      <td>0.0</td>\n",
       "      <td>1.0</td>\n",
       "      <td>0.0</td>\n",
       "      <td>0.0</td>\n",
       "      <td>1.0</td>\n",
       "      <td>0.0</td>\n",
       "      <td>1.0</td>\n",
       "      <td>0.0</td>\n",
       "      <td>0.0</td>\n",
       "    </tr>\n",
       "    <tr>\n",
       "      <th>1096</th>\n",
       "      <td>0.754597</td>\n",
       "      <td>0.494</td>\n",
       "      <td>0.636364</td>\n",
       "      <td>0.0</td>\n",
       "      <td>0.313035</td>\n",
       "      <td>0.000000</td>\n",
       "      <td>0.0</td>\n",
       "      <td>1.0</td>\n",
       "      <td>0.242506</td>\n",
       "      <td>0.0</td>\n",
       "      <td>...</td>\n",
       "      <td>0.730479</td>\n",
       "      <td>0.0</td>\n",
       "      <td>1.0</td>\n",
       "      <td>0.0</td>\n",
       "      <td>1.0</td>\n",
       "      <td>0.0</td>\n",
       "      <td>1.0</td>\n",
       "      <td>0.0</td>\n",
       "      <td>0.0</td>\n",
       "      <td>0.0</td>\n",
       "    </tr>\n",
       "    <tr>\n",
       "      <th>3980</th>\n",
       "      <td>0.134046</td>\n",
       "      <td>0.714</td>\n",
       "      <td>0.333333</td>\n",
       "      <td>0.1</td>\n",
       "      <td>0.000000</td>\n",
       "      <td>0.333333</td>\n",
       "      <td>1.0</td>\n",
       "      <td>0.0</td>\n",
       "      <td>0.070408</td>\n",
       "      <td>1.0</td>\n",
       "      <td>...</td>\n",
       "      <td>0.020151</td>\n",
       "      <td>1.0</td>\n",
       "      <td>0.0</td>\n",
       "      <td>0.0</td>\n",
       "      <td>0.0</td>\n",
       "      <td>1.0</td>\n",
       "      <td>0.0</td>\n",
       "      <td>0.0</td>\n",
       "      <td>1.0</td>\n",
       "      <td>0.0</td>\n",
       "    </tr>\n",
       "    <tr>\n",
       "      <th>235</th>\n",
       "      <td>0.258659</td>\n",
       "      <td>0.174</td>\n",
       "      <td>0.318182</td>\n",
       "      <td>0.0</td>\n",
       "      <td>0.409415</td>\n",
       "      <td>0.000000</td>\n",
       "      <td>0.0</td>\n",
       "      <td>0.0</td>\n",
       "      <td>0.110924</td>\n",
       "      <td>0.0</td>\n",
       "      <td>...</td>\n",
       "      <td>0.617128</td>\n",
       "      <td>1.0</td>\n",
       "      <td>0.0</td>\n",
       "      <td>0.0</td>\n",
       "      <td>1.0</td>\n",
       "      <td>0.0</td>\n",
       "      <td>0.0</td>\n",
       "      <td>1.0</td>\n",
       "      <td>0.0</td>\n",
       "      <td>0.0</td>\n",
       "    </tr>\n",
       "    <tr>\n",
       "      <th>1061</th>\n",
       "      <td>0.719048</td>\n",
       "      <td>0.576</td>\n",
       "      <td>0.666667</td>\n",
       "      <td>0.4</td>\n",
       "      <td>0.433310</td>\n",
       "      <td>0.333333</td>\n",
       "      <td>1.0</td>\n",
       "      <td>1.0</td>\n",
       "      <td>0.371223</td>\n",
       "      <td>0.0</td>\n",
       "      <td>...</td>\n",
       "      <td>0.297229</td>\n",
       "      <td>0.0</td>\n",
       "      <td>1.0</td>\n",
       "      <td>0.0</td>\n",
       "      <td>0.0</td>\n",
       "      <td>1.0</td>\n",
       "      <td>0.0</td>\n",
       "      <td>0.0</td>\n",
       "      <td>1.0</td>\n",
       "      <td>0.0</td>\n",
       "    </tr>\n",
       "  </tbody>\n",
       "</table>\n",
       "<p>3259 rows × 21 columns</p>\n",
       "</div>"
      ],
      "text/plain": [
       "      CustomerId  CreditScore       Age  Tenure   Balance  NumOfProducts  \\\n",
       "3985    0.534880        0.536  0.424242     0.6  0.598704       0.000000   \n",
       "829     0.462312        0.752  0.575758     0.2  0.420385       0.000000   \n",
       "546     0.944034        0.172  0.378788     0.5  0.000000       0.333333   \n",
       "1401    0.684094        0.504  0.196970     0.7  0.618864       0.000000   \n",
       "2779    0.379233        0.770  0.424242     0.2  0.423857       0.000000   \n",
       "...          ...          ...       ...     ...       ...            ...   \n",
       "3839    0.018353        0.694  0.378788     0.8  0.412156       0.000000   \n",
       "1096    0.754597        0.494  0.636364     0.0  0.313035       0.000000   \n",
       "3980    0.134046        0.714  0.333333     0.1  0.000000       0.333333   \n",
       "235     0.258659        0.174  0.318182     0.0  0.409415       0.000000   \n",
       "1061    0.719048        0.576  0.666667     0.4  0.433310       0.333333   \n",
       "\n",
       "      HasCreditCard  IsActiveMember  EstimatedSalary  Exited  ...  \\\n",
       "3985            1.0             0.0         0.603408     1.0  ...   \n",
       "829             1.0             1.0         0.230213     0.0  ...   \n",
       "546             1.0             1.0         0.178416     0.0  ...   \n",
       "1401            1.0             1.0         0.897357     0.0  ...   \n",
       "2779            1.0             0.0         0.571916     1.0  ...   \n",
       "...             ...             ...              ...     ...  ...   \n",
       "3839            1.0             0.0         0.334477     1.0  ...   \n",
       "1096            0.0             1.0         0.242506     0.0  ...   \n",
       "3980            1.0             0.0         0.070408     1.0  ...   \n",
       "235             0.0             0.0         0.110924     0.0  ...   \n",
       "1061            1.0             1.0         0.371223     0.0  ...   \n",
       "\n",
       "      Point Earned  Location_France  Location_Germany  Location_Spain  \\\n",
       "3985      0.943325              1.0               0.0             0.0   \n",
       "829       0.681360              0.0               0.0             1.0   \n",
       "546       0.442065              0.0               0.0             1.0   \n",
       "1401      0.793451              1.0               0.0             0.0   \n",
       "2779      0.102015              0.0               1.0             0.0   \n",
       "...            ...              ...               ...             ...   \n",
       "3839      0.487406              0.0               1.0             0.0   \n",
       "1096      0.730479              0.0               1.0             0.0   \n",
       "3980      0.020151              1.0               0.0             0.0   \n",
       "235       0.617128              1.0               0.0             0.0   \n",
       "1061      0.297229              0.0               1.0             0.0   \n",
       "\n",
       "      Gender_Female  Gender_Male  Card Type_DIAMOND  Card Type_GOLD  \\\n",
       "3985            1.0          0.0                0.0             0.0   \n",
       "829             1.0          0.0                0.0             0.0   \n",
       "546             0.0          1.0                1.0             0.0   \n",
       "1401            0.0          1.0                0.0             1.0   \n",
       "2779            0.0          1.0                1.0             0.0   \n",
       "...             ...          ...                ...             ...   \n",
       "3839            0.0          1.0                0.0             1.0   \n",
       "1096            1.0          0.0                1.0             0.0   \n",
       "3980            0.0          1.0                0.0             0.0   \n",
       "235             1.0          0.0                0.0             1.0   \n",
       "1061            0.0          1.0                0.0             0.0   \n",
       "\n",
       "      Card Type_PLATINUM  Card Type_SILVER  \n",
       "3985                 1.0               0.0  \n",
       "829                  1.0               0.0  \n",
       "546                  0.0               0.0  \n",
       "1401                 0.0               0.0  \n",
       "2779                 0.0               0.0  \n",
       "...                  ...               ...  \n",
       "3839                 0.0               0.0  \n",
       "1096                 0.0               0.0  \n",
       "3980                 1.0               0.0  \n",
       "235                  0.0               0.0  \n",
       "1061                 1.0               0.0  \n",
       "\n",
       "[3259 rows x 21 columns]"
      ]
     },
     "execution_count": 91,
     "metadata": {},
     "output_type": "execute_result"
    }
   ],
   "source": [
    "x_train"
   ]
  },
  {
   "cell_type": "markdown",
   "id": "13ae105e",
   "metadata": {},
   "source": [
    "### Create model"
   ]
  },
  {
   "cell_type": "code",
   "execution_count": 92,
   "id": "8acf1ef3",
   "metadata": {},
   "outputs": [],
   "source": [
    "\n",
    "LR_model = LogisticRegression().fit(x_train,y_train)"
   ]
  },
  {
   "cell_type": "markdown",
   "id": "7e9da5fc",
   "metadata": {},
   "source": [
    "### Test model"
   ]
  },
  {
   "cell_type": "code",
   "execution_count": 93,
   "id": "c7ad4e78",
   "metadata": {},
   "outputs": [
    {
     "name": "stdout",
     "output_type": "stream",
     "text": [
      "Prediction accuracy score:\t 99.63\n"
     ]
    }
   ],
   "source": [
    "y_pred = LR_model.predict(x_test)\n",
    "Prediction_accuracy = accuracy_score(y_test, y_pred)\n",
    "print('Prediction accuracy score:\\t %0.2f'   % (Prediction_accuracy * 100))\n"
   ]
  },
  {
   "cell_type": "code",
   "execution_count": 94,
   "id": "40d26ca4",
   "metadata": {},
   "outputs": [
    {
     "name": "stdout",
     "output_type": "stream",
     "text": [
      "\n",
      "The confusion matrix is :\n",
      " [[400   0]\n",
      " [  3 412]]\n"
     ]
    }
   ],
   "source": [
    "Prediction_conf_matrix = confusion_matrix(y_test, y_pred)\n",
    "print('\\nThe confusion matrix is :\\n',Prediction_conf_matrix)"
   ]
  },
  {
   "cell_type": "code",
   "execution_count": null,
   "id": "01f278d7",
   "metadata": {},
   "outputs": [],
   "source": []
  },
  {
   "cell_type": "markdown",
   "id": "9b4e753e",
   "metadata": {},
   "source": [
    "### Create dataset with the best features"
   ]
  },
  {
   "cell_type": "code",
   "execution_count": 100,
   "id": "3ce6c083",
   "metadata": {},
   "outputs": [
    {
     "data": {
      "text/plain": [
       "((0.8308695966794157, 0.038144214242123727, 0.03720490400633527),\n",
       " ('Exited', 'Age', 'NumOfProducts'))"
      ]
     },
     "execution_count": 100,
     "metadata": {},
     "output_type": "execute_result"
    }
   ],
   "source": [
    "best_features_importances =[(i,j) for i,j in features_importances if i > 0.03 ]\n",
    "best_features_importances\n",
    "\n",
    "best_importances, best_feature_names = zip(*best_features_importances)\n",
    "(best_importances, best_feature_names)"
   ]
  },
  {
   "cell_type": "markdown",
   "id": "16c653ba",
   "metadata": {},
   "source": [
    "### Plot best features"
   ]
  },
  {
   "cell_type": "code",
   "execution_count": 160,
   "id": "94596098",
   "metadata": {},
   "outputs": [
    {
     "data": {
      "image/png": "[encoded data removed]",
      "text/plain": [
       "<Figure size 500x500 with 1 Axes>"
      ]
     },
     "metadata": {},
     "output_type": "display_data"
    }
   ],
   "source": [
    "fig, ax = plt.subplots(figsize=(5, 5))\n",
    "bars = ax.barh(best_feature_names, best_importances, color=color[1])\n",
    "ax.set_xlabel('Importance')\n",
    "ax.set_title('Feature Importances')\n",
    "\n",
    "ax.invert_yaxis()  # Reverse the order of the features\n",
    "\n",
    "ax.spines['right'].set_visible(False) \n",
    "ax.spines['top'].set_visible(False)  \n",
    "ax.spines['bottom'].set_visible(False)\n",
    "\n",
    "ax.set_xticklabels([])\n",
    "ax.set_xticks([])\n",
    "# Add annotations\n",
    "for bar, imp in zip(bars, importances):\n",
    "    ax.annotate(f'{imp:.4f}',\n",
    "                       xy=(bar.get_width() * 1.01, \n",
    "                           bar.get_y() + bar.get_height() / 2),\n",
    "                       ha='left',\n",
    "                       va='center')\n",
    "\n",
    "\n",
    "plt.show()"
   ]
  },
  {
   "cell_type": "code",
   "execution_count": null,
   "id": "6e409289",
   "metadata": {},
   "outputs": [],
   "source": []
  },
  {
   "cell_type": "code",
   "execution_count": 102,
   "id": "f6b3b5a5",
   "metadata": {},
   "outputs": [
    {
     "data": {
      "text/html": [
       "<div>\n",
       "<style scoped>\n",
       "    .dataframe tbody tr th:only-of-type {\n",
       "        vertical-align: middle;\n",
       "    }\n",
       "\n",
       "    .dataframe tbody tr th {\n",
       "        vertical-align: top;\n",
       "    }\n",
       "\n",
       "    .dataframe thead th {\n",
       "        text-align: right;\n",
       "    }\n",
       "</style>\n",
       "<table border=\"1\" class=\"dataframe\">\n",
       "  <thead>\n",
       "    <tr style=\"text-align: right;\">\n",
       "      <th></th>\n",
       "      <th>Exited</th>\n",
       "      <th>Age</th>\n",
       "      <th>NumOfProducts</th>\n",
       "    </tr>\n",
       "  </thead>\n",
       "  <tbody>\n",
       "    <tr>\n",
       "      <th>0</th>\n",
       "      <td>0.0</td>\n",
       "      <td>0.242424</td>\n",
       "      <td>0.000000</td>\n",
       "    </tr>\n",
       "    <tr>\n",
       "      <th>1</th>\n",
       "      <td>0.0</td>\n",
       "      <td>0.378788</td>\n",
       "      <td>0.333333</td>\n",
       "    </tr>\n",
       "    <tr>\n",
       "      <th>2</th>\n",
       "      <td>0.0</td>\n",
       "      <td>0.333333</td>\n",
       "      <td>0.333333</td>\n",
       "    </tr>\n",
       "    <tr>\n",
       "      <th>3</th>\n",
       "      <td>0.0</td>\n",
       "      <td>0.075758</td>\n",
       "      <td>0.000000</td>\n",
       "    </tr>\n",
       "    <tr>\n",
       "      <th>4</th>\n",
       "      <td>0.0</td>\n",
       "      <td>0.242424</td>\n",
       "      <td>0.000000</td>\n",
       "    </tr>\n",
       "    <tr>\n",
       "      <th>...</th>\n",
       "      <td>...</td>\n",
       "      <td>...</td>\n",
       "      <td>...</td>\n",
       "    </tr>\n",
       "    <tr>\n",
       "      <th>4069</th>\n",
       "      <td>0.0</td>\n",
       "      <td>0.257576</td>\n",
       "      <td>0.333333</td>\n",
       "    </tr>\n",
       "    <tr>\n",
       "      <th>4070</th>\n",
       "      <td>0.0</td>\n",
       "      <td>0.272727</td>\n",
       "      <td>0.333333</td>\n",
       "    </tr>\n",
       "    <tr>\n",
       "      <th>4071</th>\n",
       "      <td>1.0</td>\n",
       "      <td>0.530303</td>\n",
       "      <td>0.000000</td>\n",
       "    </tr>\n",
       "    <tr>\n",
       "      <th>4072</th>\n",
       "      <td>1.0</td>\n",
       "      <td>0.272727</td>\n",
       "      <td>0.000000</td>\n",
       "    </tr>\n",
       "    <tr>\n",
       "      <th>4073</th>\n",
       "      <td>1.0</td>\n",
       "      <td>0.363636</td>\n",
       "      <td>0.333333</td>\n",
       "    </tr>\n",
       "  </tbody>\n",
       "</table>\n",
       "<p>4074 rows × 3 columns</p>\n",
       "</div>"
      ],
      "text/plain": [
       "      Exited       Age  NumOfProducts\n",
       "0        0.0  0.242424       0.000000\n",
       "1        0.0  0.378788       0.333333\n",
       "2        0.0  0.333333       0.333333\n",
       "3        0.0  0.075758       0.000000\n",
       "4        0.0  0.242424       0.000000\n",
       "...      ...       ...            ...\n",
       "4069     0.0  0.257576       0.333333\n",
       "4070     0.0  0.272727       0.333333\n",
       "4071     1.0  0.530303       0.000000\n",
       "4072     1.0  0.272727       0.000000\n",
       "4073     1.0  0.363636       0.333333\n",
       "\n",
       "[4074 rows x 3 columns]"
      ]
     },
     "execution_count": 102,
     "metadata": {},
     "output_type": "execute_result"
    }
   ],
   "source": [
    "best_df = X_preprocessed[list(best_feature_names)]\n",
    "best_df"
   ]
  },
  {
   "cell_type": "code",
   "execution_count": null,
   "id": "50ddc115",
   "metadata": {},
   "outputs": [],
   "source": []
  },
  {
   "cell_type": "code",
   "execution_count": 103,
   "id": "2dc871a4",
   "metadata": {},
   "outputs": [],
   "source": [
    "X_train, X_test, Y_train, Y_test = train_test_split(best_df, Y, test_size=0.20, random_state=1)"
   ]
  },
  {
   "cell_type": "code",
   "execution_count": 104,
   "id": "7b3a152b",
   "metadata": {},
   "outputs": [
    {
     "data": {
      "text/html": [
       "<div>\n",
       "<style scoped>\n",
       "    .dataframe tbody tr th:only-of-type {\n",
       "        vertical-align: middle;\n",
       "    }\n",
       "\n",
       "    .dataframe tbody tr th {\n",
       "        vertical-align: top;\n",
       "    }\n",
       "\n",
       "    .dataframe thead th {\n",
       "        text-align: right;\n",
       "    }\n",
       "</style>\n",
       "<table border=\"1\" class=\"dataframe\">\n",
       "  <thead>\n",
       "    <tr style=\"text-align: right;\">\n",
       "      <th></th>\n",
       "      <th>Exited</th>\n",
       "      <th>Age</th>\n",
       "      <th>NumOfProducts</th>\n",
       "    </tr>\n",
       "  </thead>\n",
       "  <tbody>\n",
       "    <tr>\n",
       "      <th>3985</th>\n",
       "      <td>1.0</td>\n",
       "      <td>0.424242</td>\n",
       "      <td>0.000000</td>\n",
       "    </tr>\n",
       "    <tr>\n",
       "      <th>829</th>\n",
       "      <td>0.0</td>\n",
       "      <td>0.575758</td>\n",
       "      <td>0.000000</td>\n",
       "    </tr>\n",
       "    <tr>\n",
       "      <th>546</th>\n",
       "      <td>0.0</td>\n",
       "      <td>0.378788</td>\n",
       "      <td>0.333333</td>\n",
       "    </tr>\n",
       "    <tr>\n",
       "      <th>1401</th>\n",
       "      <td>0.0</td>\n",
       "      <td>0.196970</td>\n",
       "      <td>0.000000</td>\n",
       "    </tr>\n",
       "    <tr>\n",
       "      <th>2779</th>\n",
       "      <td>1.0</td>\n",
       "      <td>0.424242</td>\n",
       "      <td>0.000000</td>\n",
       "    </tr>\n",
       "    <tr>\n",
       "      <th>...</th>\n",
       "      <td>...</td>\n",
       "      <td>...</td>\n",
       "      <td>...</td>\n",
       "    </tr>\n",
       "    <tr>\n",
       "      <th>3839</th>\n",
       "      <td>1.0</td>\n",
       "      <td>0.378788</td>\n",
       "      <td>0.000000</td>\n",
       "    </tr>\n",
       "    <tr>\n",
       "      <th>1096</th>\n",
       "      <td>0.0</td>\n",
       "      <td>0.636364</td>\n",
       "      <td>0.000000</td>\n",
       "    </tr>\n",
       "    <tr>\n",
       "      <th>3980</th>\n",
       "      <td>1.0</td>\n",
       "      <td>0.333333</td>\n",
       "      <td>0.333333</td>\n",
       "    </tr>\n",
       "    <tr>\n",
       "      <th>235</th>\n",
       "      <td>0.0</td>\n",
       "      <td>0.318182</td>\n",
       "      <td>0.000000</td>\n",
       "    </tr>\n",
       "    <tr>\n",
       "      <th>1061</th>\n",
       "      <td>0.0</td>\n",
       "      <td>0.666667</td>\n",
       "      <td>0.333333</td>\n",
       "    </tr>\n",
       "  </tbody>\n",
       "</table>\n",
       "<p>3259 rows × 3 columns</p>\n",
       "</div>"
      ],
      "text/plain": [
       "      Exited       Age  NumOfProducts\n",
       "3985     1.0  0.424242       0.000000\n",
       "829      0.0  0.575758       0.000000\n",
       "546      0.0  0.378788       0.333333\n",
       "1401     0.0  0.196970       0.000000\n",
       "2779     1.0  0.424242       0.000000\n",
       "...      ...       ...            ...\n",
       "3839     1.0  0.378788       0.000000\n",
       "1096     0.0  0.636364       0.000000\n",
       "3980     1.0  0.333333       0.333333\n",
       "235      0.0  0.318182       0.000000\n",
       "1061     0.0  0.666667       0.333333\n",
       "\n",
       "[3259 rows x 3 columns]"
      ]
     },
     "execution_count": 104,
     "metadata": {},
     "output_type": "execute_result"
    }
   ],
   "source": [
    "X_train"
   ]
  },
  {
   "cell_type": "code",
   "execution_count": 105,
   "id": "b69af3be",
   "metadata": {},
   "outputs": [],
   "source": [
    "model_2 = LogisticRegression().fit(X_train,Y_train)"
   ]
  },
  {
   "cell_type": "code",
   "execution_count": 159,
   "id": "f5ec2cf9",
   "metadata": {},
   "outputs": [
    {
     "name": "stdout",
     "output_type": "stream",
     "text": [
      "Prediction accuracy score:\t 99.63\n"
     ]
    }
   ],
   "source": [
    "y_pred_2 = model_2.predict(X_test)\n",
    "Prediction_accuracy = accuracy_score(Y_test, y_pred_2)\n",
    "print('Prediction accuracy score:\\t %0.2f'   % (Prediction_accuracy * 100))\n"
   ]
  },
  {
   "cell_type": "code",
   "execution_count": 107,
   "id": "262262e0",
   "metadata": {},
   "outputs": [
    {
     "name": "stdout",
     "output_type": "stream",
     "text": [
      "\n",
      "The confusion matrix is :\n",
      " [[400   0]\n",
      " [  3 412]]\n"
     ]
    }
   ],
   "source": [
    "Prediction_conf_matrix = confusion_matrix(Y_test, y_pred_2)\n",
    "print('\\nThe confusion matrix is :\\n',Prediction_conf_matrix)"
   ]
  },
  {
   "cell_type": "code",
   "execution_count": null,
   "id": "8b3ba9bb",
   "metadata": {},
   "outputs": [],
   "source": []
  },
  {
   "cell_type": "markdown",
   "id": "ded3d5ea",
   "metadata": {},
   "source": [
    "# Predict"
   ]
  },
  {
   "cell_type": "code",
   "execution_count": 144,
   "id": "27dc3703",
   "metadata": {},
   "outputs": [],
   "source": [
    "to_pred = pd.read_csv('data/New Sample.csv')"
   ]
  },
  {
   "cell_type": "code",
   "execution_count": 145,
   "id": "437130b0",
   "metadata": {},
   "outputs": [
    {
     "data": {
      "text/html": [
       "<div>\n",
       "<style scoped>\n",
       "    .dataframe tbody tr th:only-of-type {\n",
       "        vertical-align: middle;\n",
       "    }\n",
       "\n",
       "    .dataframe tbody tr th {\n",
       "        vertical-align: top;\n",
       "    }\n",
       "\n",
       "    .dataframe thead th {\n",
       "        text-align: right;\n",
       "    }\n",
       "</style>\n",
       "<table border=\"1\" class=\"dataframe\">\n",
       "  <thead>\n",
       "    <tr style=\"text-align: right;\">\n",
       "      <th></th>\n",
       "      <th>CustomerId</th>\n",
       "      <th>CreditScore</th>\n",
       "      <th>Location</th>\n",
       "      <th>Gender</th>\n",
       "      <th>Age</th>\n",
       "      <th>Tenure</th>\n",
       "      <th>Balance</th>\n",
       "      <th>NumOfProducts</th>\n",
       "      <th>HasCreditCard</th>\n",
       "      <th>IsActiveMember</th>\n",
       "      <th>EstimatedSalary</th>\n",
       "      <th>Exited</th>\n",
       "      <th>Satisfaction Score</th>\n",
       "      <th>Card Type</th>\n",
       "      <th>Point Earned</th>\n",
       "    </tr>\n",
       "  </thead>\n",
       "  <tbody>\n",
       "    <tr>\n",
       "      <th>0</th>\n",
       "      <td>15710408</td>\n",
       "      <td>584</td>\n",
       "      <td>Spain</td>\n",
       "      <td>Female</td>\n",
       "      <td>38</td>\n",
       "      <td>3</td>\n",
       "      <td>0.00</td>\n",
       "      <td>2</td>\n",
       "      <td>1</td>\n",
       "      <td>1</td>\n",
       "      <td>4525.40</td>\n",
       "      <td>0</td>\n",
       "      <td>2</td>\n",
       "      <td>GOLD</td>\n",
       "      <td>941</td>\n",
       "    </tr>\n",
       "    <tr>\n",
       "      <th>1</th>\n",
       "      <td>15598695</td>\n",
       "      <td>834</td>\n",
       "      <td>Germany</td>\n",
       "      <td>Female</td>\n",
       "      <td>68</td>\n",
       "      <td>9</td>\n",
       "      <td>130169.27</td>\n",
       "      <td>2</td>\n",
       "      <td>0</td>\n",
       "      <td>1</td>\n",
       "      <td>93112.20</td>\n",
       "      <td>0</td>\n",
       "      <td>5</td>\n",
       "      <td>GOLD</td>\n",
       "      <td>882</td>\n",
       "    </tr>\n",
       "    <tr>\n",
       "      <th>2</th>\n",
       "      <td>15649354</td>\n",
       "      <td>754</td>\n",
       "      <td>Spain</td>\n",
       "      <td>Male</td>\n",
       "      <td>35</td>\n",
       "      <td>4</td>\n",
       "      <td>0.00</td>\n",
       "      <td>2</td>\n",
       "      <td>1</td>\n",
       "      <td>1</td>\n",
       "      <td>9658.41</td>\n",
       "      <td>0</td>\n",
       "      <td>1</td>\n",
       "      <td>SILVER</td>\n",
       "      <td>474</td>\n",
       "    </tr>\n",
       "    <tr>\n",
       "      <th>3</th>\n",
       "      <td>15737556</td>\n",
       "      <td>590</td>\n",
       "      <td>France</td>\n",
       "      <td>Male</td>\n",
       "      <td>43</td>\n",
       "      <td>7</td>\n",
       "      <td>81076.80</td>\n",
       "      <td>2</td>\n",
       "      <td>1</td>\n",
       "      <td>1</td>\n",
       "      <td>182627.25</td>\n",
       "      <td>1</td>\n",
       "      <td>1</td>\n",
       "      <td>DIAMOND</td>\n",
       "      <td>253</td>\n",
       "    </tr>\n",
       "    <tr>\n",
       "      <th>4</th>\n",
       "      <td>15671610</td>\n",
       "      <td>740</td>\n",
       "      <td>France</td>\n",
       "      <td>Male</td>\n",
       "      <td>36</td>\n",
       "      <td>7</td>\n",
       "      <td>0.00</td>\n",
       "      <td>1</td>\n",
       "      <td>1</td>\n",
       "      <td>1</td>\n",
       "      <td>13177.40</td>\n",
       "      <td>0</td>\n",
       "      <td>5</td>\n",
       "      <td>SILVER</td>\n",
       "      <td>466</td>\n",
       "    </tr>\n",
       "  </tbody>\n",
       "</table>\n",
       "</div>"
      ],
      "text/plain": [
       "   CustomerId  CreditScore Location  Gender  Age  Tenure    Balance  \\\n",
       "0    15710408          584    Spain  Female   38       3       0.00   \n",
       "1    15598695          834  Germany  Female   68       9  130169.27   \n",
       "2    15649354          754    Spain    Male   35       4       0.00   \n",
       "3    15737556          590   France    Male   43       7   81076.80   \n",
       "4    15671610          740   France    Male   36       7       0.00   \n",
       "\n",
       "   NumOfProducts  HasCreditCard  IsActiveMember  EstimatedSalary  Exited  \\\n",
       "0              2              1               1          4525.40       0   \n",
       "1              2              0               1         93112.20       0   \n",
       "2              2              1               1          9658.41       0   \n",
       "3              2              1               1        182627.25       1   \n",
       "4              1              1               1         13177.40       0   \n",
       "\n",
       "   Satisfaction Score Card Type  Point Earned  \n",
       "0                   2      GOLD           941  \n",
       "1                   5      GOLD           882  \n",
       "2                   1    SILVER           474  \n",
       "3                   1   DIAMOND           253  \n",
       "4                   5    SILVER           466  "
      ]
     },
     "execution_count": 145,
     "metadata": {},
     "output_type": "execute_result"
    }
   ],
   "source": [
    "to_pred.head()"
   ]
  },
  {
   "cell_type": "code",
   "execution_count": 146,
   "id": "715c65bd",
   "metadata": {
    "scrolled": true
   },
   "outputs": [
    {
     "data": {
      "text/html": [
       "<div>\n",
       "<style scoped>\n",
       "    .dataframe tbody tr th:only-of-type {\n",
       "        vertical-align: middle;\n",
       "    }\n",
       "\n",
       "    .dataframe tbody tr th {\n",
       "        vertical-align: top;\n",
       "    }\n",
       "\n",
       "    .dataframe thead th {\n",
       "        text-align: right;\n",
       "    }\n",
       "</style>\n",
       "<table border=\"1\" class=\"dataframe\">\n",
       "  <thead>\n",
       "    <tr style=\"text-align: right;\">\n",
       "      <th></th>\n",
       "      <th>CustomerId</th>\n",
       "      <th>CreditScore</th>\n",
       "      <th>Age</th>\n",
       "      <th>Tenure</th>\n",
       "      <th>Balance</th>\n",
       "      <th>NumOfProducts</th>\n",
       "      <th>HasCreditCard</th>\n",
       "      <th>IsActiveMember</th>\n",
       "      <th>EstimatedSalary</th>\n",
       "      <th>Exited</th>\n",
       "      <th>...</th>\n",
       "      <th>Point Earned</th>\n",
       "      <th>Location_France</th>\n",
       "      <th>Location_Germany</th>\n",
       "      <th>Location_Spain</th>\n",
       "      <th>Gender_Female</th>\n",
       "      <th>Gender_Male</th>\n",
       "      <th>Card Type_DIAMOND</th>\n",
       "      <th>Card Type_GOLD</th>\n",
       "      <th>Card Type_PLATINUM</th>\n",
       "      <th>Card Type_SILVER</th>\n",
       "    </tr>\n",
       "  </thead>\n",
       "  <tbody>\n",
       "    <tr>\n",
       "      <th>0</th>\n",
       "      <td>0.539483</td>\n",
       "      <td>0.293785</td>\n",
       "      <td>0.230769</td>\n",
       "      <td>0.333333</td>\n",
       "      <td>0.000000</td>\n",
       "      <td>0.333333</td>\n",
       "      <td>1.0</td>\n",
       "      <td>1.0</td>\n",
       "      <td>0.000000</td>\n",
       "      <td>0.0</td>\n",
       "      <td>...</td>\n",
       "      <td>0.931347</td>\n",
       "      <td>0.0</td>\n",
       "      <td>0.0</td>\n",
       "      <td>1.0</td>\n",
       "      <td>1.0</td>\n",
       "      <td>0.0</td>\n",
       "      <td>0.0</td>\n",
       "      <td>1.0</td>\n",
       "      <td>0.0</td>\n",
       "      <td>0.0</td>\n",
       "    </tr>\n",
       "    <tr>\n",
       "      <th>1</th>\n",
       "      <td>0.000000</td>\n",
       "      <td>1.000000</td>\n",
       "      <td>1.000000</td>\n",
       "      <td>1.000000</td>\n",
       "      <td>0.917939</td>\n",
       "      <td>0.333333</td>\n",
       "      <td>0.0</td>\n",
       "      <td>1.0</td>\n",
       "      <td>0.455963</td>\n",
       "      <td>0.0</td>\n",
       "      <td>...</td>\n",
       "      <td>0.854922</td>\n",
       "      <td>0.0</td>\n",
       "      <td>1.0</td>\n",
       "      <td>0.0</td>\n",
       "      <td>1.0</td>\n",
       "      <td>0.0</td>\n",
       "      <td>0.0</td>\n",
       "      <td>1.0</td>\n",
       "      <td>0.0</td>\n",
       "      <td>0.0</td>\n",
       "    </tr>\n",
       "    <tr>\n",
       "      <th>2</th>\n",
       "      <td>0.244642</td>\n",
       "      <td>0.774011</td>\n",
       "      <td>0.153846</td>\n",
       "      <td>0.444444</td>\n",
       "      <td>0.000000</td>\n",
       "      <td>0.333333</td>\n",
       "      <td>1.0</td>\n",
       "      <td>1.0</td>\n",
       "      <td>0.026420</td>\n",
       "      <td>0.0</td>\n",
       "      <td>...</td>\n",
       "      <td>0.326425</td>\n",
       "      <td>0.0</td>\n",
       "      <td>0.0</td>\n",
       "      <td>1.0</td>\n",
       "      <td>0.0</td>\n",
       "      <td>1.0</td>\n",
       "      <td>0.0</td>\n",
       "      <td>0.0</td>\n",
       "      <td>0.0</td>\n",
       "      <td>1.0</td>\n",
       "    </tr>\n",
       "    <tr>\n",
       "      <th>3</th>\n",
       "      <td>0.670586</td>\n",
       "      <td>0.310734</td>\n",
       "      <td>0.358974</td>\n",
       "      <td>0.777778</td>\n",
       "      <td>0.571744</td>\n",
       "      <td>0.333333</td>\n",
       "      <td>1.0</td>\n",
       "      <td>1.0</td>\n",
       "      <td>0.916703</td>\n",
       "      <td>1.0</td>\n",
       "      <td>...</td>\n",
       "      <td>0.040155</td>\n",
       "      <td>1.0</td>\n",
       "      <td>0.0</td>\n",
       "      <td>0.0</td>\n",
       "      <td>0.0</td>\n",
       "      <td>1.0</td>\n",
       "      <td>1.0</td>\n",
       "      <td>0.0</td>\n",
       "      <td>0.0</td>\n",
       "      <td>0.0</td>\n",
       "    </tr>\n",
       "    <tr>\n",
       "      <th>4</th>\n",
       "      <td>0.352120</td>\n",
       "      <td>0.734463</td>\n",
       "      <td>0.179487</td>\n",
       "      <td>0.777778</td>\n",
       "      <td>0.000000</td>\n",
       "      <td>0.000000</td>\n",
       "      <td>1.0</td>\n",
       "      <td>1.0</td>\n",
       "      <td>0.044532</td>\n",
       "      <td>0.0</td>\n",
       "      <td>...</td>\n",
       "      <td>0.316062</td>\n",
       "      <td>1.0</td>\n",
       "      <td>0.0</td>\n",
       "      <td>0.0</td>\n",
       "      <td>0.0</td>\n",
       "      <td>1.0</td>\n",
       "      <td>0.0</td>\n",
       "      <td>0.0</td>\n",
       "      <td>0.0</td>\n",
       "      <td>1.0</td>\n",
       "    </tr>\n",
       "  </tbody>\n",
       "</table>\n",
       "<p>5 rows × 21 columns</p>\n",
       "</div>"
      ],
      "text/plain": [
       "   CustomerId  CreditScore       Age    Tenure   Balance  NumOfProducts  \\\n",
       "0    0.539483     0.293785  0.230769  0.333333  0.000000       0.333333   \n",
       "1    0.000000     1.000000  1.000000  1.000000  0.917939       0.333333   \n",
       "2    0.244642     0.774011  0.153846  0.444444  0.000000       0.333333   \n",
       "3    0.670586     0.310734  0.358974  0.777778  0.571744       0.333333   \n",
       "4    0.352120     0.734463  0.179487  0.777778  0.000000       0.000000   \n",
       "\n",
       "   HasCreditCard  IsActiveMember  EstimatedSalary  Exited  ...  Point Earned  \\\n",
       "0            1.0             1.0         0.000000     0.0  ...      0.931347   \n",
       "1            0.0             1.0         0.455963     0.0  ...      0.854922   \n",
       "2            1.0             1.0         0.026420     0.0  ...      0.326425   \n",
       "3            1.0             1.0         0.916703     1.0  ...      0.040155   \n",
       "4            1.0             1.0         0.044532     0.0  ...      0.316062   \n",
       "\n",
       "   Location_France  Location_Germany  Location_Spain  Gender_Female  \\\n",
       "0              0.0               0.0             1.0            1.0   \n",
       "1              0.0               1.0             0.0            1.0   \n",
       "2              0.0               0.0             1.0            0.0   \n",
       "3              1.0               0.0             0.0            0.0   \n",
       "4              1.0               0.0             0.0            0.0   \n",
       "\n",
       "   Gender_Male  Card Type_DIAMOND  Card Type_GOLD  Card Type_PLATINUM  \\\n",
       "0          0.0                0.0             1.0                 0.0   \n",
       "1          0.0                0.0             1.0                 0.0   \n",
       "2          1.0                0.0             0.0                 0.0   \n",
       "3          1.0                1.0             0.0                 0.0   \n",
       "4          1.0                0.0             0.0                 0.0   \n",
       "\n",
       "   Card Type_SILVER  \n",
       "0               0.0  \n",
       "1               0.0  \n",
       "2               1.0  \n",
       "3               0.0  \n",
       "4               1.0  \n",
       "\n",
       "[5 rows x 21 columns]"
      ]
     },
     "execution_count": 146,
     "metadata": {},
     "output_type": "execute_result"
    }
   ],
   "source": [
    "x_pred = preprocess(to_pred)\n",
    "x_pred.head()"
   ]
  },
  {
   "cell_type": "code",
   "execution_count": 147,
   "id": "b4ec7062",
   "metadata": {},
   "outputs": [],
   "source": [
    "y_pred_new = LR_model.predict(x_pred)"
   ]
  },
  {
   "cell_type": "code",
   "execution_count": 148,
   "id": "31bea3fc",
   "metadata": {
    "scrolled": true
   },
   "outputs": [
    {
     "name": "stdout",
     "output_type": "stream",
     "text": [
      "1: 0\n",
      "2: 0\n",
      "3: 0\n",
      "4: 1\n",
      "5: 0\n",
      "6: 1\n",
      "7: 0\n",
      "8: 0\n",
      "9: 1\n",
      "10: 0\n",
      "11: 0\n",
      "12: 1\n",
      "13: 1\n",
      "14: 0\n",
      "15: 1\n",
      "16: 0\n",
      "17: 0\n",
      "18: 0\n",
      "19: 0\n",
      "20: 1\n"
     ]
    }
   ],
   "source": [
    "for num,pred in enumerate(y_pred_new):\n",
    "    print(f'{num+1}: {pred}')"
   ]
  },
  {
   "cell_type": "code",
   "execution_count": null,
   "id": "d3c19c41",
   "metadata": {},
   "outputs": [],
   "source": []
  },
  {
   "cell_type": "code",
   "execution_count": null,
   "id": "087d93c8",
   "metadata": {},
   "outputs": [],
   "source": []
  },
  {
   "cell_type": "code",
   "execution_count": null,
   "id": "cd124c3d",
   "metadata": {},
   "outputs": [],
   "source": []
  },
  {
   "cell_type": "code",
   "execution_count": null,
   "id": "94ae8736",
   "metadata": {},
   "outputs": [],
   "source": []
  },
  {
   "cell_type": "code",
   "execution_count": 149,
   "id": "278e5f16",
   "metadata": {},
   "outputs": [
    {
     "data": {
      "text/html": [
       "<div>\n",
       "<style scoped>\n",
       "    .dataframe tbody tr th:only-of-type {\n",
       "        vertical-align: middle;\n",
       "    }\n",
       "\n",
       "    .dataframe tbody tr th {\n",
       "        vertical-align: top;\n",
       "    }\n",
       "\n",
       "    .dataframe thead th {\n",
       "        text-align: right;\n",
       "    }\n",
       "</style>\n",
       "<table border=\"1\" class=\"dataframe\">\n",
       "  <thead>\n",
       "    <tr style=\"text-align: right;\">\n",
       "      <th></th>\n",
       "      <th>Exited</th>\n",
       "      <th>Age</th>\n",
       "      <th>NumOfProducts</th>\n",
       "    </tr>\n",
       "  </thead>\n",
       "  <tbody>\n",
       "    <tr>\n",
       "      <th>0</th>\n",
       "      <td>0.0</td>\n",
       "      <td>0.230769</td>\n",
       "      <td>0.333333</td>\n",
       "    </tr>\n",
       "    <tr>\n",
       "      <th>1</th>\n",
       "      <td>0.0</td>\n",
       "      <td>1.000000</td>\n",
       "      <td>0.333333</td>\n",
       "    </tr>\n",
       "    <tr>\n",
       "      <th>2</th>\n",
       "      <td>0.0</td>\n",
       "      <td>0.153846</td>\n",
       "      <td>0.333333</td>\n",
       "    </tr>\n",
       "    <tr>\n",
       "      <th>3</th>\n",
       "      <td>1.0</td>\n",
       "      <td>0.358974</td>\n",
       "      <td>0.333333</td>\n",
       "    </tr>\n",
       "    <tr>\n",
       "      <th>4</th>\n",
       "      <td>0.0</td>\n",
       "      <td>0.179487</td>\n",
       "      <td>0.000000</td>\n",
       "    </tr>\n",
       "    <tr>\n",
       "      <th>5</th>\n",
       "      <td>1.0</td>\n",
       "      <td>0.717949</td>\n",
       "      <td>0.000000</td>\n",
       "    </tr>\n",
       "    <tr>\n",
       "      <th>6</th>\n",
       "      <td>0.0</td>\n",
       "      <td>0.487179</td>\n",
       "      <td>0.000000</td>\n",
       "    </tr>\n",
       "    <tr>\n",
       "      <th>7</th>\n",
       "      <td>0.0</td>\n",
       "      <td>0.205128</td>\n",
       "      <td>0.333333</td>\n",
       "    </tr>\n",
       "    <tr>\n",
       "      <th>8</th>\n",
       "      <td>1.0</td>\n",
       "      <td>0.435897</td>\n",
       "      <td>0.666667</td>\n",
       "    </tr>\n",
       "    <tr>\n",
       "      <th>9</th>\n",
       "      <td>0.0</td>\n",
       "      <td>0.179487</td>\n",
       "      <td>0.000000</td>\n",
       "    </tr>\n",
       "    <tr>\n",
       "      <th>10</th>\n",
       "      <td>0.0</td>\n",
       "      <td>0.102564</td>\n",
       "      <td>0.333333</td>\n",
       "    </tr>\n",
       "    <tr>\n",
       "      <th>11</th>\n",
       "      <td>1.0</td>\n",
       "      <td>0.512821</td>\n",
       "      <td>1.000000</td>\n",
       "    </tr>\n",
       "    <tr>\n",
       "      <th>12</th>\n",
       "      <td>1.0</td>\n",
       "      <td>0.461538</td>\n",
       "      <td>0.000000</td>\n",
       "    </tr>\n",
       "    <tr>\n",
       "      <th>13</th>\n",
       "      <td>0.0</td>\n",
       "      <td>0.282051</td>\n",
       "      <td>0.333333</td>\n",
       "    </tr>\n",
       "    <tr>\n",
       "      <th>14</th>\n",
       "      <td>1.0</td>\n",
       "      <td>0.282051</td>\n",
       "      <td>0.000000</td>\n",
       "    </tr>\n",
       "    <tr>\n",
       "      <th>15</th>\n",
       "      <td>0.0</td>\n",
       "      <td>0.153846</td>\n",
       "      <td>0.333333</td>\n",
       "    </tr>\n",
       "    <tr>\n",
       "      <th>16</th>\n",
       "      <td>0.0</td>\n",
       "      <td>0.538462</td>\n",
       "      <td>0.333333</td>\n",
       "    </tr>\n",
       "    <tr>\n",
       "      <th>17</th>\n",
       "      <td>0.0</td>\n",
       "      <td>0.000000</td>\n",
       "      <td>0.333333</td>\n",
       "    </tr>\n",
       "    <tr>\n",
       "      <th>18</th>\n",
       "      <td>0.0</td>\n",
       "      <td>0.128205</td>\n",
       "      <td>0.333333</td>\n",
       "    </tr>\n",
       "    <tr>\n",
       "      <th>19</th>\n",
       "      <td>1.0</td>\n",
       "      <td>0.564103</td>\n",
       "      <td>0.000000</td>\n",
       "    </tr>\n",
       "  </tbody>\n",
       "</table>\n",
       "</div>"
      ],
      "text/plain": [
       "    Exited       Age  NumOfProducts\n",
       "0      0.0  0.230769       0.333333\n",
       "1      0.0  1.000000       0.333333\n",
       "2      0.0  0.153846       0.333333\n",
       "3      1.0  0.358974       0.333333\n",
       "4      0.0  0.179487       0.000000\n",
       "5      1.0  0.717949       0.000000\n",
       "6      0.0  0.487179       0.000000\n",
       "7      0.0  0.205128       0.333333\n",
       "8      1.0  0.435897       0.666667\n",
       "9      0.0  0.179487       0.000000\n",
       "10     0.0  0.102564       0.333333\n",
       "11     1.0  0.512821       1.000000\n",
       "12     1.0  0.461538       0.000000\n",
       "13     0.0  0.282051       0.333333\n",
       "14     1.0  0.282051       0.000000\n",
       "15     0.0  0.153846       0.333333\n",
       "16     0.0  0.538462       0.333333\n",
       "17     0.0  0.000000       0.333333\n",
       "18     0.0  0.128205       0.333333\n",
       "19     1.0  0.564103       0.000000"
      ]
     },
     "execution_count": 149,
     "metadata": {},
     "output_type": "execute_result"
    }
   ],
   "source": [
    "to_pred = x_pred[list(best_feature_names)]\n",
    "to_pred"
   ]
  },
  {
   "cell_type": "code",
   "execution_count": 150,
   "id": "7d350f7b",
   "metadata": {},
   "outputs": [],
   "source": [
    "y_pred_new2 = model_2.predict(to_pred)"
   ]
  },
  {
   "cell_type": "code",
   "execution_count": 158,
   "id": "6d8d4cc0",
   "metadata": {},
   "outputs": [
    {
     "data": {
      "text/plain": [
       "array([ True,  True,  True,  True,  True,  True,  True,  True,  True,\n",
       "        True,  True,  True,  True,  True,  True,  True,  True,  True,\n",
       "        True,  True])"
      ]
     },
     "execution_count": 158,
     "metadata": {},
     "output_type": "execute_result"
    }
   ],
   "source": [
    "y_pred_new == y_pred_new2"
   ]
  },
  {
   "cell_type": "code",
   "execution_count": 153,
   "id": "594c2cec",
   "metadata": {},
   "outputs": [
    {
     "name": "stdout",
     "output_type": "stream",
     "text": [
      "1: 0 0\n",
      "1: 0 0\n",
      "1: 0 0\n",
      "1: 1 1\n",
      "1: 0 0\n",
      "1: 1 1\n",
      "1: 0 0\n",
      "1: 0 0\n",
      "1: 1 1\n",
      "1: 0 0\n",
      "1: 0 0\n",
      "1: 1 1\n",
      "1: 1 1\n",
      "1: 0 0\n",
      "1: 1 1\n",
      "1: 0 0\n",
      "1: 0 0\n",
      "1: 0 0\n",
      "1: 0 0\n",
      "1: 1 1\n"
     ]
    }
   ],
   "source": [
    "pr"
   ]
  },
  {
   "cell_type": "code",
   "execution_count": null,
   "id": "387239a6",
   "metadata": {},
   "outputs": [],
   "source": []
  },
  {
   "cell_type": "code",
   "execution_count": null,
   "id": "50912529",
   "metadata": {},
   "outputs": [],
   "source": []
  },
  {
   "cell_type": "code",
   "execution_count": null,
   "id": "9c9c673f",
   "metadata": {},
   "outputs": [],
   "source": []
  },
  {
   "cell_type": "code",
   "execution_count": null,
   "id": "2f40646c",
   "metadata": {},
   "outputs": [],
   "source": [
    "from sklearn.linear_model import LogisticRegression\n",
    "from sklearn.model_selection import train_test_split\n",
    "from sklearn.metrics import accuracy_score\n",
    "\n",
    "# Split the data into training and testing sets\n",
    "X_train, X_test, y_train, y_test = train_test_split(best_df, Y, test_size=0.2, random_state=10)\n",
    "\n",
    "# Create a logistic regression model\n",
    "model = LogisticRegression()\n",
    "\n",
    "# Train the model\n",
    "model.fit(X_train, y_train)\n",
    "\n",
    "# Make predictions on the test set\n",
    "y_pred = model.predict(X_test)\n",
    "\n",
    "# Evaluate the model\n",
    "accuracy = accuracy_score(y_test, y_pred)\n",
    "print(\"Accuracy:\", accuracy)\n"
   ]
  },
  {
   "cell_type": "code",
   "execution_count": null,
   "id": "9e7826dd",
   "metadata": {},
   "outputs": [],
   "source": [
    "model.predict[best_df.columns.to_list()]"
   ]
  },
  {
   "cell_type": "code",
   "execution_count": null,
   "id": "b3924e07",
   "metadata": {},
   "outputs": [],
   "source": []
  }
 ],
 "metadata": {
  "kernelspec": {
   "display_name": "Python 3 (ipykernel)",
   "language": "python",
   "name": "python3"
  },
  "language_info": {
   "codemirror_mode": {
    "name": "ipython",
    "version": 3
   },
   "file_extension": ".py",
   "mimetype": "text/x-python",
   "name": "python",
   "nbconvert_exporter": "python",
   "pygments_lexer": "ipython3",
   "version": "3.11.1"
  }
 },
 "nbformat": 4,
 "nbformat_minor": 5
}
